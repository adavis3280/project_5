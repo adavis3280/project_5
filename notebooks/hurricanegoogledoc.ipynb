{
 "cells": [
  {
   "cell_type": "code",
   "execution_count": 1,
   "metadata": {},
   "outputs": [],
   "source": [
    "import pandas as pd\n",
    "import numpy as np"
   ]
  },
  {
   "cell_type": "code",
   "execution_count": 8,
   "metadata": {},
   "outputs": [],
   "source": [
    "hurricanes=pd.read_csv('~/GA/projects/project_5/datasets/fip_codes_years.csv')"
   ]
  },
  {
   "cell_type": "code",
   "execution_count": 9,
   "metadata": {},
   "outputs": [
    {
     "data": {
      "text/html": [
       "<div>\n",
       "<style scoped>\n",
       "    .dataframe tbody tr th:only-of-type {\n",
       "        vertical-align: middle;\n",
       "    }\n",
       "\n",
       "    .dataframe tbody tr th {\n",
       "        vertical-align: top;\n",
       "    }\n",
       "\n",
       "    .dataframe thead th {\n",
       "        text-align: right;\n",
       "    }\n",
       "</style>\n",
       "<table border=\"1\" class=\"dataframe\">\n",
       "  <thead>\n",
       "    <tr style=\"text-align: right;\">\n",
       "      <th></th>\n",
       "      <th>fip_code</th>\n",
       "      <th>county</th>\n",
       "      <th>Impact</th>\n",
       "      <th>state</th>\n",
       "      <th>hurricane</th>\n",
       "      <th>month</th>\n",
       "      <th>year</th>\n",
       "      <th>quarter data 1</th>\n",
       "      <th>quarter data 2</th>\n",
       "      <th>quarter data 3</th>\n",
       "      <th>quarter data 4</th>\n",
       "    </tr>\n",
       "  </thead>\n",
       "  <tbody>\n",
       "    <tr>\n",
       "      <th>0</th>\n",
       "      <td>48201</td>\n",
       "      <td>Harris</td>\n",
       "      <td>Major</td>\n",
       "      <td>TX</td>\n",
       "      <td>Harvey</td>\n",
       "      <td>Sept</td>\n",
       "      <td>2017</td>\n",
       "      <td>NaN</td>\n",
       "      <td>NaN</td>\n",
       "      <td>NaN</td>\n",
       "      <td>NaN</td>\n",
       "    </tr>\n",
       "    <tr>\n",
       "      <th>1</th>\n",
       "      <td>48245</td>\n",
       "      <td>Jefferson</td>\n",
       "      <td>Major</td>\n",
       "      <td>TX</td>\n",
       "      <td>Harvey</td>\n",
       "      <td>Sept</td>\n",
       "      <td>2017</td>\n",
       "      <td>NaN</td>\n",
       "      <td>NaN</td>\n",
       "      <td>NaN</td>\n",
       "      <td>NaN</td>\n",
       "    </tr>\n",
       "    <tr>\n",
       "      <th>2</th>\n",
       "      <td>48167</td>\n",
       "      <td>Galveston</td>\n",
       "      <td>Major</td>\n",
       "      <td>TX</td>\n",
       "      <td>Harvey</td>\n",
       "      <td>Sept</td>\n",
       "      <td>2017</td>\n",
       "      <td>NaN</td>\n",
       "      <td>NaN</td>\n",
       "      <td>NaN</td>\n",
       "      <td>NaN</td>\n",
       "    </tr>\n",
       "    <tr>\n",
       "      <th>3</th>\n",
       "      <td>48039</td>\n",
       "      <td>Brazoria</td>\n",
       "      <td>Major</td>\n",
       "      <td>TX</td>\n",
       "      <td>Harvey</td>\n",
       "      <td>Sept</td>\n",
       "      <td>2017</td>\n",
       "      <td>NaN</td>\n",
       "      <td>NaN</td>\n",
       "      <td>NaN</td>\n",
       "      <td>NaN</td>\n",
       "    </tr>\n",
       "    <tr>\n",
       "      <th>4</th>\n",
       "      <td>48321</td>\n",
       "      <td>Matagorda</td>\n",
       "      <td>Major</td>\n",
       "      <td>TX</td>\n",
       "      <td>Harvey</td>\n",
       "      <td>Sept</td>\n",
       "      <td>2017</td>\n",
       "      <td>NaN</td>\n",
       "      <td>NaN</td>\n",
       "      <td>NaN</td>\n",
       "      <td>NaN</td>\n",
       "    </tr>\n",
       "  </tbody>\n",
       "</table>\n",
       "</div>"
      ],
      "text/plain": [
       "   fip_code     county Impact state hurricane month  year  quarter data 1  \\\n",
       "0     48201     Harris  Major    TX    Harvey  Sept  2017             NaN   \n",
       "1     48245  Jefferson  Major    TX    Harvey  Sept  2017             NaN   \n",
       "2     48167  Galveston  Major    TX    Harvey  Sept  2017             NaN   \n",
       "3     48039   Brazoria  Major    TX    Harvey  Sept  2017             NaN   \n",
       "4     48321  Matagorda  Major    TX    Harvey  Sept  2017             NaN   \n",
       "\n",
       "   quarter data 2  quarter data 3  quarter data 4  \n",
       "0             NaN             NaN             NaN  \n",
       "1             NaN             NaN             NaN  \n",
       "2             NaN             NaN             NaN  \n",
       "3             NaN             NaN             NaN  \n",
       "4             NaN             NaN             NaN  "
      ]
     },
     "execution_count": 9,
     "metadata": {},
     "output_type": "execute_result"
    }
   ],
   "source": [
    "hurricanes.head()"
   ]
  },
  {
   "cell_type": "code",
   "execution_count": 14,
   "metadata": {},
   "outputs": [
    {
     "data": {
      "text/plain": [
       "array(['Harvey', 'Katrina', 'Maria', 'Andrew ', 'Sandy', 'Irma', 'Ike',\n",
       "       'Wilma', 'Ivan', 'Michael', 'Rita', 'Matthew', 'Charley'],\n",
       "      dtype=object)"
      ]
     },
     "execution_count": 14,
     "metadata": {},
     "output_type": "execute_result"
    }
   ],
   "source": [
    "hurricanes['hurricane'].unique()"
   ]
  },
  {
   "cell_type": "code",
   "execution_count": 19,
   "metadata": {},
   "outputs": [
    {
     "data": {
      "text/plain": [
       "[2017, 2005, 2017, 1992, 2012, 2017, 2008, 2005, 2004, 2018, 2005, 2007, 2004]"
      ]
     },
     "execution_count": 19,
     "metadata": {},
     "output_type": "execute_result"
    }
   ],
   "source": [
    "year_list=[]\n",
    "for i in hurricanes['hurricane'].unique():\n",
    "    yr=int(hurricanes[hurricanes['hurricane']==i]['year'].mean())\n",
    "    year_list.append(yr)\n",
    "year_list"
   ]
  },
  {
   "cell_type": "code",
   "execution_count": 21,
   "metadata": {},
   "outputs": [
    {
     "data": {
      "text/plain": [
       "[[48201, 48245, 48167, 48039, 48321, 48057, 48007, 48409, 48355, 48273],\n",
       " [22087, 22071, 22075, 22051, 22103, 22089],\n",
       " [72127, 72021, 72013, 72025, 72113],\n",
       " [12025, 12011, 12099, 12087],\n",
       " [36103, 36059, 36081, 36005, 36647, 36119, 36061],\n",
       " [72127,\n",
       "  72021,\n",
       "  72013,\n",
       "  72025,\n",
       "  72113,\n",
       "  12025,\n",
       "  12011,\n",
       "  12099,\n",
       "  12087,\n",
       "  12043,\n",
       "  12021,\n",
       "  12071,\n",
       "  12051,\n",
       "  12115],\n",
       " [48071, 48167, 48245, 48201],\n",
       " [12025, 12011, 12099, 12087, 12043, 12021, 12071, 12051],\n",
       " [22051, 22075, 22103, 22095, 22093, 1003, 1097, 12045, 12095, 12113, 12033],\n",
       " [12005, 12045, 12129, 12091, 12037, 13087, 13253],\n",
       " [22051,\n",
       "  22075,\n",
       "  22103,\n",
       "  22095,\n",
       "  22093,\n",
       "  22023,\n",
       "  22045,\n",
       "  22053,\n",
       "  22001,\n",
       "  12025,\n",
       "  48167,\n",
       "  48245,\n",
       "  48201],\n",
       " [12031, 12095, 45019, 45013, 45051, 37183, 37129],\n",
       " [12015, 12087, 12021, 12027, 12049, 12095]]"
      ]
     },
     "execution_count": 21,
     "metadata": {},
     "output_type": "execute_result"
    }
   ],
   "source": [
    "FIPS_list=[]\n",
    "for i in hurricanes['hurricane'].unique():\n",
    "    unq_fips=list(hurricanes[hurricanes['hurricane']==i]['fip_code'].unique())\n",
    "    FIPS_list.append(unq_fips)\n",
    "FIPS_list"
   ]
  },
  {
   "cell_type": "code",
   "execution_count": null,
   "metadata": {},
   "outputs": [],
   "source": []
  },
  {
   "cell_type": "code",
   "execution_count": null,
   "metadata": {},
   "outputs": [],
   "source": []
  },
  {
   "cell_type": "code",
   "execution_count": null,
   "metadata": {},
   "outputs": [],
   "source": []
  }
 ],
 "metadata": {
  "kernelspec": {
   "display_name": "Python 3",
   "language": "python",
   "name": "python3"
  },
  "language_info": {
   "codemirror_mode": {
    "name": "ipython",
    "version": 3
   },
   "file_extension": ".py",
   "mimetype": "text/x-python",
   "name": "python",
   "nbconvert_exporter": "python",
   "pygments_lexer": "ipython3",
   "version": "3.7.6"
  }
 },
 "nbformat": 4,
 "nbformat_minor": 4
}
