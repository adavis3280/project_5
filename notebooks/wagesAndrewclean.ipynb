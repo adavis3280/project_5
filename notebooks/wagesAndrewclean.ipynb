{
 "cells": [
  {
   "cell_type": "code",
   "execution_count": 89,
   "metadata": {},
   "outputs": [],
   "source": [
    "import pandas as pd\n",
    "import numpy as np\n",
    "import seaborn as sns\n",
    "import matplotlib.pyplot as plt"
   ]
  },
  {
   "cell_type": "code",
   "execution_count": 90,
   "metadata": {},
   "outputs": [],
   "source": [
    "andrew = pd.read_csv('../datasets/andrew.csv')\n",
    "charlie = pd.read_csv('../datasets/charlie.csv')\n",
    "frances = pd.read_csv('../datasets/frances.csv')\n",
    "harvey = pd.read_csv('../datasets/harvey.csv')\n",
    "ike = pd.read_csv('../datasets/ike.csv')\n",
    "irene = pd.read_csv('../datasets/irene.csv')\n",
    "irma = pd.read_csv('../datasets/irma.csv')\n",
    "ivan = pd.read_csv('../datasets/ivan.csv')\n",
    "katrina = pd.read_csv('../datasets/katrina.csv')\n",
    "maria = pd.read_csv('../datasets/maria.csv')\n",
    "matthew = pd.read_csv('../datasets/matthew.csv')\n",
    "michael = pd.read_csv('../datasets/michael.csv')\n",
    "rita = pd.read_csv('../datasets/rita.csv')\n",
    "sandy = pd.read_csv('../datasets/sandy.csv')\n",
    "wilma = pd.read_csv('../datasets/wilma.csv')"
   ]
  },
  {
   "cell_type": "code",
   "execution_count": 91,
   "metadata": {},
   "outputs": [],
   "source": [
    "df_full = pd.concat([andrew, charlie, frances, harvey, ike, irene, irma, ivan, katrina, maria, matthew, michael, rita, sandy, wilma])"
   ]
  },
  {
   "cell_type": "code",
   "execution_count": 92,
   "metadata": {},
   "outputs": [
    {
     "data": {
      "text/html": [
       "<div>\n",
       "<style scoped>\n",
       "    .dataframe tbody tr th:only-of-type {\n",
       "        vertical-align: middle;\n",
       "    }\n",
       "\n",
       "    .dataframe tbody tr th {\n",
       "        vertical-align: top;\n",
       "    }\n",
       "\n",
       "    .dataframe thead th {\n",
       "        text-align: right;\n",
       "    }\n",
       "</style>\n",
       "<table border=\"1\" class=\"dataframe\">\n",
       "  <thead>\n",
       "    <tr style=\"text-align: right;\">\n",
       "      <th></th>\n",
       "      <th>geoid</th>\n",
       "      <th>area_fips</th>\n",
       "      <th>qtrly_estabs_11_agriculture_forestry_fishing_and_hunting</th>\n",
       "      <th>avg_wkly_wage_11_agriculture_forestry_fishing_and_hunting</th>\n",
       "      <th>month3_emplvl_11_agriculture_forestry_fishing_and_hunting</th>\n",
       "      <th>lq_avg_wkly_wage_11_agriculture_forestry_fishing_and_hunting</th>\n",
       "      <th>lq_qtrly_estabs_11_agriculture_forestry_fishing_and_hunting</th>\n",
       "      <th>lq_month3_emplvl_11_agriculture_forestry_fishing_and_hunting</th>\n",
       "      <th>qtrly_estabs_1024_professional_and_business_services</th>\n",
       "      <th>avg_wkly_wage_1024_professional_and_business_services</th>\n",
       "      <th>...</th>\n",
       "      <th>month3_emplvl_99_unclassified</th>\n",
       "      <th>lq_avg_wkly_wage_99_unclassified</th>\n",
       "      <th>lq_qtrly_estabs_99_unclassified</th>\n",
       "      <th>lq_month3_emplvl_99_unclassified</th>\n",
       "      <th>qtrly_estabs_48_49_transportation_and_warehousing</th>\n",
       "      <th>avg_wkly_wage_48_49_transportation_and_warehousing</th>\n",
       "      <th>month3_emplvl_48_49_transportation_and_warehousing</th>\n",
       "      <th>lq_avg_wkly_wage_48_49_transportation_and_warehousing</th>\n",
       "      <th>lq_qtrly_estabs_48_49_transportation_and_warehousing</th>\n",
       "      <th>lq_month3_emplvl_48_49_transportation_and_warehousing</th>\n",
       "    </tr>\n",
       "  </thead>\n",
       "  <tbody>\n",
       "    <tr>\n",
       "      <th>0</th>\n",
       "      <td>12011</td>\n",
       "      <td>12011</td>\n",
       "      <td>92.0</td>\n",
       "      <td>274.0</td>\n",
       "      <td>1041.0</td>\n",
       "      <td>1.04</td>\n",
       "      <td>0.16</td>\n",
       "      <td>0.23</td>\n",
       "      <td>7132.0</td>\n",
       "      <td>462.0</td>\n",
       "      <td>...</td>\n",
       "      <td>NaN</td>\n",
       "      <td>NaN</td>\n",
       "      <td>NaN</td>\n",
       "      <td>NaN</td>\n",
       "      <td>786.0</td>\n",
       "      <td>444.0</td>\n",
       "      <td>18954.0</td>\n",
       "      <td>0.91</td>\n",
       "      <td>0.80</td>\n",
       "      <td>1.27</td>\n",
       "    </tr>\n",
       "    <tr>\n",
       "      <th>1</th>\n",
       "      <td>12087</td>\n",
       "      <td>12087</td>\n",
       "      <td>NaN</td>\n",
       "      <td>NaN</td>\n",
       "      <td>NaN</td>\n",
       "      <td>NaN</td>\n",
       "      <td>NaN</td>\n",
       "      <td>NaN</td>\n",
       "      <td>351.0</td>\n",
       "      <td>493.0</td>\n",
       "      <td>...</td>\n",
       "      <td>NaN</td>\n",
       "      <td>NaN</td>\n",
       "      <td>NaN</td>\n",
       "      <td>NaN</td>\n",
       "      <td>95.0</td>\n",
       "      <td>341.0</td>\n",
       "      <td>736.0</td>\n",
       "      <td>0.89</td>\n",
       "      <td>1.27</td>\n",
       "      <td>0.81</td>\n",
       "    </tr>\n",
       "    <tr>\n",
       "      <th>2</th>\n",
       "      <td>12099</td>\n",
       "      <td>12099</td>\n",
       "      <td>NaN</td>\n",
       "      <td>NaN</td>\n",
       "      <td>NaN</td>\n",
       "      <td>NaN</td>\n",
       "      <td>NaN</td>\n",
       "      <td>NaN</td>\n",
       "      <td>5246.0</td>\n",
       "      <td>548.0</td>\n",
       "      <td>...</td>\n",
       "      <td>NaN</td>\n",
       "      <td>NaN</td>\n",
       "      <td>NaN</td>\n",
       "      <td>NaN</td>\n",
       "      <td>414.0</td>\n",
       "      <td>415.0</td>\n",
       "      <td>4775.0</td>\n",
       "      <td>0.82</td>\n",
       "      <td>0.57</td>\n",
       "      <td>0.44</td>\n",
       "    </tr>\n",
       "    <tr>\n",
       "      <th>3</th>\n",
       "      <td>12011</td>\n",
       "      <td>12011</td>\n",
       "      <td>96.0</td>\n",
       "      <td>299.0</td>\n",
       "      <td>930.0</td>\n",
       "      <td>1.12</td>\n",
       "      <td>0.16</td>\n",
       "      <td>0.17</td>\n",
       "      <td>7227.0</td>\n",
       "      <td>466.0</td>\n",
       "      <td>...</td>\n",
       "      <td>NaN</td>\n",
       "      <td>NaN</td>\n",
       "      <td>NaN</td>\n",
       "      <td>NaN</td>\n",
       "      <td>809.0</td>\n",
       "      <td>439.0</td>\n",
       "      <td>18630.0</td>\n",
       "      <td>0.85</td>\n",
       "      <td>0.81</td>\n",
       "      <td>1.26</td>\n",
       "    </tr>\n",
       "    <tr>\n",
       "      <th>4</th>\n",
       "      <td>12099</td>\n",
       "      <td>12099</td>\n",
       "      <td>NaN</td>\n",
       "      <td>NaN</td>\n",
       "      <td>NaN</td>\n",
       "      <td>NaN</td>\n",
       "      <td>NaN</td>\n",
       "      <td>NaN</td>\n",
       "      <td>5314.0</td>\n",
       "      <td>548.0</td>\n",
       "      <td>...</td>\n",
       "      <td>NaN</td>\n",
       "      <td>NaN</td>\n",
       "      <td>NaN</td>\n",
       "      <td>NaN</td>\n",
       "      <td>422.0</td>\n",
       "      <td>443.0</td>\n",
       "      <td>4421.0</td>\n",
       "      <td>0.86</td>\n",
       "      <td>0.58</td>\n",
       "      <td>0.42</td>\n",
       "    </tr>\n",
       "  </tbody>\n",
       "</table>\n",
       "<p>5 rows × 194 columns</p>\n",
       "</div>"
      ],
      "text/plain": [
       "   geoid  area_fips  qtrly_estabs_11_agriculture_forestry_fishing_and_hunting  \\\n",
       "0  12011      12011                                               92.0          \n",
       "1  12087      12087                                                NaN          \n",
       "2  12099      12099                                                NaN          \n",
       "3  12011      12011                                               96.0          \n",
       "4  12099      12099                                                NaN          \n",
       "\n",
       "   avg_wkly_wage_11_agriculture_forestry_fishing_and_hunting  \\\n",
       "0                                              274.0           \n",
       "1                                                NaN           \n",
       "2                                                NaN           \n",
       "3                                              299.0           \n",
       "4                                                NaN           \n",
       "\n",
       "   month3_emplvl_11_agriculture_forestry_fishing_and_hunting  \\\n",
       "0                                             1041.0           \n",
       "1                                                NaN           \n",
       "2                                                NaN           \n",
       "3                                              930.0           \n",
       "4                                                NaN           \n",
       "\n",
       "   lq_avg_wkly_wage_11_agriculture_forestry_fishing_and_hunting  \\\n",
       "0                                               1.04              \n",
       "1                                                NaN              \n",
       "2                                                NaN              \n",
       "3                                               1.12              \n",
       "4                                                NaN              \n",
       "\n",
       "   lq_qtrly_estabs_11_agriculture_forestry_fishing_and_hunting  \\\n",
       "0                                               0.16             \n",
       "1                                                NaN             \n",
       "2                                                NaN             \n",
       "3                                               0.16             \n",
       "4                                                NaN             \n",
       "\n",
       "   lq_month3_emplvl_11_agriculture_forestry_fishing_and_hunting  \\\n",
       "0                                               0.23              \n",
       "1                                                NaN              \n",
       "2                                                NaN              \n",
       "3                                               0.17              \n",
       "4                                                NaN              \n",
       "\n",
       "   qtrly_estabs_1024_professional_and_business_services  \\\n",
       "0                                             7132.0      \n",
       "1                                              351.0      \n",
       "2                                             5246.0      \n",
       "3                                             7227.0      \n",
       "4                                             5314.0      \n",
       "\n",
       "   avg_wkly_wage_1024_professional_and_business_services  ...  \\\n",
       "0                                              462.0      ...   \n",
       "1                                              493.0      ...   \n",
       "2                                              548.0      ...   \n",
       "3                                              466.0      ...   \n",
       "4                                              548.0      ...   \n",
       "\n",
       "   month3_emplvl_99_unclassified  lq_avg_wkly_wage_99_unclassified  \\\n",
       "0                            NaN                               NaN   \n",
       "1                            NaN                               NaN   \n",
       "2                            NaN                               NaN   \n",
       "3                            NaN                               NaN   \n",
       "4                            NaN                               NaN   \n",
       "\n",
       "   lq_qtrly_estabs_99_unclassified  lq_month3_emplvl_99_unclassified  \\\n",
       "0                              NaN                               NaN   \n",
       "1                              NaN                               NaN   \n",
       "2                              NaN                               NaN   \n",
       "3                              NaN                               NaN   \n",
       "4                              NaN                               NaN   \n",
       "\n",
       "   qtrly_estabs_48_49_transportation_and_warehousing  \\\n",
       "0                                              786.0   \n",
       "1                                               95.0   \n",
       "2                                              414.0   \n",
       "3                                              809.0   \n",
       "4                                              422.0   \n",
       "\n",
       "   avg_wkly_wage_48_49_transportation_and_warehousing  \\\n",
       "0                                              444.0    \n",
       "1                                              341.0    \n",
       "2                                              415.0    \n",
       "3                                              439.0    \n",
       "4                                              443.0    \n",
       "\n",
       "   month3_emplvl_48_49_transportation_and_warehousing  \\\n",
       "0                                            18954.0    \n",
       "1                                              736.0    \n",
       "2                                             4775.0    \n",
       "3                                            18630.0    \n",
       "4                                             4421.0    \n",
       "\n",
       "   lq_avg_wkly_wage_48_49_transportation_and_warehousing  \\\n",
       "0                                               0.91       \n",
       "1                                               0.89       \n",
       "2                                               0.82       \n",
       "3                                               0.85       \n",
       "4                                               0.86       \n",
       "\n",
       "   lq_qtrly_estabs_48_49_transportation_and_warehousing  \\\n",
       "0                                               0.80      \n",
       "1                                               1.27      \n",
       "2                                               0.57      \n",
       "3                                               0.81      \n",
       "4                                               0.58      \n",
       "\n",
       "   lq_month3_emplvl_48_49_transportation_and_warehousing  \n",
       "0                                               1.27      \n",
       "1                                               0.81      \n",
       "2                                               0.44      \n",
       "3                                               1.26      \n",
       "4                                               0.42      \n",
       "\n",
       "[5 rows x 194 columns]"
      ]
     },
     "execution_count": 92,
     "metadata": {},
     "output_type": "execute_result"
    }
   ],
   "source": [
    "df_full.head(5)"
   ]
  },
  {
   "cell_type": "code",
   "execution_count": 93,
   "metadata": {},
   "outputs": [
    {
     "data": {
      "text/plain": [
       "(492, 194)"
      ]
     },
     "execution_count": 93,
     "metadata": {},
     "output_type": "execute_result"
    }
   ],
   "source": [
    "df_full.shape"
   ]
  },
  {
   "cell_type": "code",
   "execution_count": 94,
   "metadata": {},
   "outputs": [],
   "source": [
    "wages = pd.read_csv('../datasets/other/county-ests-employment-and-wages.csv')"
   ]
  },
  {
   "cell_type": "code",
   "execution_count": 95,
   "metadata": {},
   "outputs": [
    {
     "data": {
      "text/plain": [
       "(22102, 11)"
      ]
     },
     "execution_count": 95,
     "metadata": {},
     "output_type": "execute_result"
    }
   ],
   "source": [
    "wages.shape"
   ]
  },
  {
   "cell_type": "code",
   "execution_count": 96,
   "metadata": {},
   "outputs": [],
   "source": [
    "hurricanes=pd.read_csv('~/GA/projects/project_5/datasets/fip_codes_years.csv')"
   ]
  },
  {
   "cell_type": "code",
   "execution_count": 97,
   "metadata": {},
   "outputs": [
    {
     "data": {
      "text/html": [
       "<div>\n",
       "<style scoped>\n",
       "    .dataframe tbody tr th:only-of-type {\n",
       "        vertical-align: middle;\n",
       "    }\n",
       "\n",
       "    .dataframe tbody tr th {\n",
       "        vertical-align: top;\n",
       "    }\n",
       "\n",
       "    .dataframe thead th {\n",
       "        text-align: right;\n",
       "    }\n",
       "</style>\n",
       "<table border=\"1\" class=\"dataframe\">\n",
       "  <thead>\n",
       "    <tr style=\"text-align: right;\">\n",
       "      <th></th>\n",
       "      <th>fip_code</th>\n",
       "      <th>county</th>\n",
       "      <th>Impact</th>\n",
       "      <th>state</th>\n",
       "      <th>hurricane</th>\n",
       "      <th>month</th>\n",
       "      <th>q_0</th>\n",
       "      <th>q_-2</th>\n",
       "      <th>q_-1</th>\n",
       "      <th>q_1</th>\n",
       "      <th>year</th>\n",
       "    </tr>\n",
       "  </thead>\n",
       "  <tbody>\n",
       "    <tr>\n",
       "      <th>0</th>\n",
       "      <td>48201</td>\n",
       "      <td>Harris</td>\n",
       "      <td>Major</td>\n",
       "      <td>TX</td>\n",
       "      <td>Harvey</td>\n",
       "      <td>Sept</td>\n",
       "      <td>3</td>\n",
       "      <td>1</td>\n",
       "      <td>2</td>\n",
       "      <td>4</td>\n",
       "      <td>2017</td>\n",
       "    </tr>\n",
       "    <tr>\n",
       "      <th>1</th>\n",
       "      <td>48245</td>\n",
       "      <td>Jefferson</td>\n",
       "      <td>Major</td>\n",
       "      <td>TX</td>\n",
       "      <td>Harvey</td>\n",
       "      <td>Sept</td>\n",
       "      <td>3</td>\n",
       "      <td>1</td>\n",
       "      <td>2</td>\n",
       "      <td>4</td>\n",
       "      <td>2017</td>\n",
       "    </tr>\n",
       "    <tr>\n",
       "      <th>2</th>\n",
       "      <td>48167</td>\n",
       "      <td>Galveston</td>\n",
       "      <td>Major</td>\n",
       "      <td>TX</td>\n",
       "      <td>Harvey</td>\n",
       "      <td>Sept</td>\n",
       "      <td>3</td>\n",
       "      <td>1</td>\n",
       "      <td>2</td>\n",
       "      <td>4</td>\n",
       "      <td>2017</td>\n",
       "    </tr>\n",
       "    <tr>\n",
       "      <th>3</th>\n",
       "      <td>48039</td>\n",
       "      <td>Brazoria</td>\n",
       "      <td>Major</td>\n",
       "      <td>TX</td>\n",
       "      <td>Harvey</td>\n",
       "      <td>Sept</td>\n",
       "      <td>3</td>\n",
       "      <td>1</td>\n",
       "      <td>2</td>\n",
       "      <td>4</td>\n",
       "      <td>2017</td>\n",
       "    </tr>\n",
       "    <tr>\n",
       "      <th>4</th>\n",
       "      <td>48321</td>\n",
       "      <td>Matagorda</td>\n",
       "      <td>Major</td>\n",
       "      <td>TX</td>\n",
       "      <td>Harvey</td>\n",
       "      <td>Sept</td>\n",
       "      <td>3</td>\n",
       "      <td>1</td>\n",
       "      <td>2</td>\n",
       "      <td>4</td>\n",
       "      <td>2017</td>\n",
       "    </tr>\n",
       "    <tr>\n",
       "      <th>5</th>\n",
       "      <td>48057</td>\n",
       "      <td>Calhoun</td>\n",
       "      <td>Major</td>\n",
       "      <td>TX</td>\n",
       "      <td>Harvey</td>\n",
       "      <td>Sept</td>\n",
       "      <td>3</td>\n",
       "      <td>1</td>\n",
       "      <td>2</td>\n",
       "      <td>4</td>\n",
       "      <td>2017</td>\n",
       "    </tr>\n",
       "    <tr>\n",
       "      <th>6</th>\n",
       "      <td>48007</td>\n",
       "      <td>Aransas</td>\n",
       "      <td>Major</td>\n",
       "      <td>TX</td>\n",
       "      <td>Harvey</td>\n",
       "      <td>Sept</td>\n",
       "      <td>3</td>\n",
       "      <td>1</td>\n",
       "      <td>2</td>\n",
       "      <td>4</td>\n",
       "      <td>2017</td>\n",
       "    </tr>\n",
       "    <tr>\n",
       "      <th>7</th>\n",
       "      <td>48409</td>\n",
       "      <td>San Patricio</td>\n",
       "      <td>Major</td>\n",
       "      <td>TX</td>\n",
       "      <td>Harvey</td>\n",
       "      <td>Sept</td>\n",
       "      <td>3</td>\n",
       "      <td>1</td>\n",
       "      <td>2</td>\n",
       "      <td>4</td>\n",
       "      <td>2017</td>\n",
       "    </tr>\n",
       "  </tbody>\n",
       "</table>\n",
       "</div>"
      ],
      "text/plain": [
       "   fip_code        county Impact state hurricane month  q_0  q_-2  q_-1  q_1  \\\n",
       "0     48201        Harris  Major    TX    Harvey  Sept    3     1     2    4   \n",
       "1     48245     Jefferson  Major    TX    Harvey  Sept    3     1     2    4   \n",
       "2     48167     Galveston  Major    TX    Harvey  Sept    3     1     2    4   \n",
       "3     48039      Brazoria  Major    TX    Harvey  Sept    3     1     2    4   \n",
       "4     48321     Matagorda  Major    TX    Harvey  Sept    3     1     2    4   \n",
       "5     48057       Calhoun  Major    TX    Harvey  Sept    3     1     2    4   \n",
       "6     48007       Aransas  Major    TX    Harvey  Sept    3     1     2    4   \n",
       "7     48409  San Patricio  Major    TX    Harvey  Sept    3     1     2    4   \n",
       "\n",
       "   year  \n",
       "0  2017  \n",
       "1  2017  \n",
       "2  2017  \n",
       "3  2017  \n",
       "4  2017  \n",
       "5  2017  \n",
       "6  2017  \n",
       "7  2017  "
      ]
     },
     "execution_count": 97,
     "metadata": {},
     "output_type": "execute_result"
    }
   ],
   "source": [
    "hurricanes.head(8)"
   ]
  },
  {
   "cell_type": "code",
   "execution_count": 98,
   "metadata": {},
   "outputs": [
    {
     "data": {
      "text/plain": [
       "(129, 11)"
      ]
     },
     "execution_count": 98,
     "metadata": {},
     "output_type": "execute_result"
    }
   ],
   "source": [
    "hurricanes.shape"
   ]
  },
  {
   "cell_type": "code",
   "execution_count": 99,
   "metadata": {},
   "outputs": [
    {
     "data": {
      "text/plain": [
       "dtype('int64')"
      ]
     },
     "execution_count": 99,
     "metadata": {},
     "output_type": "execute_result"
    }
   ],
   "source": [
    "hurricanes['fip_code'].dtypes"
   ]
  },
  {
   "cell_type": "code",
   "execution_count": 100,
   "metadata": {},
   "outputs": [],
   "source": [
    "hurricanes['fip_code']=hurricanes['fip_code'].map(lambda x:str(x))"
   ]
  },
  {
   "cell_type": "code",
   "execution_count": 101,
   "metadata": {},
   "outputs": [
    {
     "data": {
      "text/plain": [
       "0      48201\n",
       "1      48245\n",
       "2      48167\n",
       "3      48039\n",
       "8      48355\n",
       "       ...  \n",
       "120    34021\n",
       "121    36059\n",
       "123    36061\n",
       "126    51810\n",
       "128    51700\n",
       "Name: fip_code, Length: 62, dtype: object"
      ]
     },
     "execution_count": 101,
     "metadata": {},
     "output_type": "execute_result"
    }
   ],
   "source": [
    "hurricanes['fip_code'][hurricanes['fip_code'].isin(wages['area_fips'])]"
   ]
  },
  {
   "cell_type": "code",
   "execution_count": 102,
   "metadata": {},
   "outputs": [],
   "source": [
    "year_list=[]\n",
    "for i in hurricanes['hurricane'].unique():\n",
    "    if i != 'Andrew':\n",
    "        yr=int(hurricanes[hurricanes['hurricane']==i]['year'].mean())\n",
    "        year_list.append(yr)"
   ]
  },
  {
   "cell_type": "code",
   "execution_count": 103,
   "metadata": {},
   "outputs": [],
   "source": [
    "FIPS_list=[]\n",
    "for i in hurricanes['hurricane'].unique():\n",
    "    if i != 'Andrew':\n",
    "        unq_fips=list(hurricanes[hurricanes['hurricane']==i]['fip_code'].unique())\n",
    "        FIPS_list.append(unq_fips)"
   ]
  },
  {
   "cell_type": "code",
   "execution_count": 104,
   "metadata": {},
   "outputs": [
    {
     "data": {
      "text/plain": [
       "[[1, 2, 3, 4],\n",
       " [1, 2, 3, 4],\n",
       " [1, 2, 3, 4],\n",
       " [2, 3, 4, 1],\n",
       " [1, 2, 3, 4],\n",
       " [1, 2, 3, 4],\n",
       " [2, 3, 4, 1],\n",
       " [1, 2, 3, 4],\n",
       " [2, 3, 4, 1],\n",
       " [1, 2, 3, 4],\n",
       " [2, 3, 4, 1],\n",
       " [1, 2, 3, 4],\n",
       " [1, 2, 3, 4],\n",
       " [1, 2, 3, 4]]"
      ]
     },
     "execution_count": 104,
     "metadata": {},
     "output_type": "execute_result"
    }
   ],
   "source": [
    "q_list=[]\n",
    "for i in hurricanes['hurricane'].unique():\n",
    "    if i != 'Andrew':\n",
    "        new_q=[0,0,0,0]\n",
    "        new_q[0]=int(hurricanes.loc[hurricanes['hurricane']==i,'q_-2'].mean())\n",
    "        new_q[1]=int(hurricanes.loc[hurricanes['hurricane']==i,'q_-1'].mean())\n",
    "        new_q[2]=int(hurricanes.loc[hurricanes['hurricane']==i,'q_0'].mean())\n",
    "        new_q[3]=int(hurricanes.loc[hurricanes['hurricane']==i,'q_1'].mean())\n",
    "        q_list.append(new_q)\n",
    "q_list"
   ]
  },
  {
   "cell_type": "code",
   "execution_count": 105,
   "metadata": {},
   "outputs": [
    {
     "data": {
      "text/plain": [
       "Index(['year', 'quarter', 'area_fips', 'area_title',\n",
       "       'quarterly_establishments', 'month_3_employment',\n",
       "       'month_3_employment_percent_change_oty', 'month_3_employment_rank',\n",
       "       'average_weekly_wages', 'average_weekly_wages_percent_change_oty',\n",
       "       'average_weekly_wages_rank'],\n",
       "      dtype='object')"
      ]
     },
     "execution_count": 105,
     "metadata": {},
     "output_type": "execute_result"
    }
   ],
   "source": [
    "wages.columns"
   ]
  },
  {
   "cell_type": "code",
   "execution_count": 106,
   "metadata": {},
   "outputs": [
    {
     "data": {
      "text/plain": [
       "(14, 14, 14)"
      ]
     },
     "execution_count": 106,
     "metadata": {},
     "output_type": "execute_result"
    }
   ],
   "source": [
    "len(year_list),len(FIPS_list),len(q_list)"
   ]
  },
  {
   "cell_type": "code",
   "execution_count": 107,
   "metadata": {},
   "outputs": [
    {
     "data": {
      "text/plain": [
       "year                                        int64\n",
       "quarter                                     int64\n",
       "area_fips                                  object\n",
       "area_title                                 object\n",
       "quarterly_establishments                   object\n",
       "month_3_employment                         object\n",
       "month_3_employment_percent_change_oty      object\n",
       "month_3_employment_rank                    object\n",
       "average_weekly_wages                       object\n",
       "average_weekly_wages_percent_change_oty    object\n",
       "average_weekly_wages_rank                  object\n",
       "dtype: object"
      ]
     },
     "execution_count": 107,
     "metadata": {},
     "output_type": "execute_result"
    }
   ],
   "source": [
    "wages.dtypes"
   ]
  },
  {
   "cell_type": "code",
   "execution_count": 108,
   "metadata": {
    "scrolled": false
   },
   "outputs": [],
   "source": [
    "cols=wages.columns\n",
    "wages_new1=pd.DataFrame(columns=cols)\n",
    "wages_new2=pd.DataFrame(columns=cols)\n",
    "wages_new3=pd.DataFrame(columns=cols)\n",
    "wages_new4=pd.DataFrame(columns=cols)\n",
    "for f in range(len(FIPS_list)):\n",
    "    for l in range(len(FIPS_list[f])):\n",
    "        if q_list[f][0]==1:\n",
    "            df1=wages[(wages['year']==year_list[f])&(wages['area_fips']==FIPS_list[f][l])&(wages['quarter']==1)]\n",
    "            df2=wages[(wages['year']==year_list[f])&(wages['area_fips']==FIPS_list[f][l])&(wages['quarter']==2)]\n",
    "            df3=wages[(wages['year']==year_list[f])&(wages['area_fips']==FIPS_list[f][l])&(wages['quarter']==3)]\n",
    "            df4=wages[(wages['year']==year_list[f])&(wages['area_fips']==FIPS_list[f][l])&(wages['quarter']==4)]\n",
    "            #df=pd.concat([df1,df2,df3,df4])\n",
    "        else:\n",
    "            df1=wages[(wages['year']==year_list[f])&(wages['area_fips']==FIPS_list[f][l])&(wages['quarter']==2)]\n",
    "            df2=wages[(wages['year']==year_list[f])&(wages['area_fips']==FIPS_list[f][l])&(wages['quarter']==3)]\n",
    "            df3=wages[(wages['year']==year_list[f])&(wages['area_fips']==FIPS_list[f][l])&(wages['quarter']==4)]\n",
    "            df4=wages[(wages['year']==(year_list[f]+1))&(wages['area_fips']==FIPS_list[f][l])&(wages['quarter']==1)]\n",
    "            #df=pd.concat([df1,df2,df3,df4])\n",
    "        wages_new1=pd.concat([wages_new1,df1])\n",
    "        wages_new2=pd.concat([wages_new2,df2])\n",
    "        wages_new3=pd.concat([wages_new3,df3])\n",
    "        wages_new4=pd.concat([wages_new4,df4])"
   ]
  },
  {
   "cell_type": "code",
   "execution_count": 109,
   "metadata": {},
   "outputs": [
    {
     "data": {
      "text/plain": [
       "((57, 11), (57, 11), (57, 11), (57, 11))"
      ]
     },
     "execution_count": 109,
     "metadata": {},
     "output_type": "execute_result"
    }
   ],
   "source": [
    "wages_new1.shape,wages_new3.shape,wages_new3.shape,wages_new4.shape,"
   ]
  },
  {
   "cell_type": "code",
   "execution_count": 110,
   "metadata": {},
   "outputs": [],
   "source": [
    "for j in wages_new2.columns:\n",
    "    wages_new2.rename(columns={j:j+'_q-1'})\n",
    "for k in wages_new3.columns:\n",
    "    wages_new3.rename(columns={k:k+'_q0'})\n",
    "for l in wages_new4.columns:\n",
    "    wages_new4.rename(columns={l:l+'_q1'})"
   ]
  },
  {
   "cell_type": "code",
   "execution_count": 119,
   "metadata": {},
   "outputs": [],
   "source": [
    "w1=wages_new1.reset_index(drop=True)\n",
    "w2=wages_new2.reset_index(drop=True)\n",
    "w3=wages_new3.reset_index(drop=True)\n",
    "w4=wages_new4.reset_index(drop=True)"
   ]
  },
  {
   "cell_type": "code",
   "execution_count": 120,
   "metadata": {},
   "outputs": [],
   "source": [
    "wages_fin=pd.concat([w1,w2,w3,w4],axis=1)"
   ]
  },
  {
   "cell_type": "code",
   "execution_count": 121,
   "metadata": {},
   "outputs": [],
   "source": [
    "wages_fin.to_csv('../datasets/other/wages_final.csv', index=False)"
   ]
  },
  {
   "cell_type": "code",
   "execution_count": null,
   "metadata": {},
   "outputs": [],
   "source": []
  }
 ],
 "metadata": {
  "kernelspec": {
   "display_name": "Python 3",
   "language": "python",
   "name": "python3"
  },
  "language_info": {
   "codemirror_mode": {
    "name": "ipython",
    "version": 3
   },
   "file_extension": ".py",
   "mimetype": "text/x-python",
   "name": "python",
   "nbconvert_exporter": "python",
   "pygments_lexer": "ipython3",
   "version": "3.7.6"
  }
 },
 "nbformat": 4,
 "nbformat_minor": 4
}
