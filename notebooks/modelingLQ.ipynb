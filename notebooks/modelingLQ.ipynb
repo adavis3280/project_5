{
 "cells": [
  {
   "cell_type": "code",
   "execution_count": 54,
   "metadata": {},
   "outputs": [],
   "source": [
    "import pandas as pd\n",
    "import numpy as np"
   ]
  },
  {
   "cell_type": "code",
   "execution_count": 55,
   "metadata": {},
   "outputs": [],
   "source": [
    "df=pd.read_csv('../datasets/MergedData.csv')"
   ]
  },
  {
   "cell_type": "code",
   "execution_count": 56,
   "metadata": {},
   "outputs": [
    {
     "data": {
      "text/plain": [
       "(56, 828)"
      ]
     },
     "execution_count": 56,
     "metadata": {},
     "output_type": "execute_result"
    }
   ],
   "source": [
    "df.shape"
   ]
  },
  {
   "cell_type": "code",
   "execution_count": 66,
   "metadata": {},
   "outputs": [
    {
     "data": {
      "text/plain": [
       "Index(['month_3_employment.1', 'month_3_employment_percent_change_oty.1',\n",
       "       'month_3_employment_rank.1', 'average_weekly_wages.1',\n",
       "       'average_weekly_wages_percent_change_oty.1',\n",
       "       'average_weekly_wages_rank.1', 'year.2', 'quarter.2', 'area_fips.2_y',\n",
       "       'area_title.2', 'quarterly_establishments.2', 'month_3_employment.2',\n",
       "       'month_3_employment_percent_change_oty.2', 'month_3_employment_rank.2',\n",
       "       'average_weekly_wages.2', 'average_weekly_wages_percent_change_oty.2',\n",
       "       'average_weekly_wages_rank.2', 'year.3', 'quarter.3', 'area_fips.3_y',\n",
       "       'area_title.3', 'quarterly_establishments.3', 'month_3_employment.3',\n",
       "       'month_3_employment_percent_change_oty.3', 'month_3_employment_rank.3',\n",
       "       'average_weekly_wages.3', 'average_weekly_wages_percent_change_oty.3',\n",
       "       'average_weekly_wages_rank.3'],\n",
       "      dtype='object')"
      ]
     },
     "execution_count": 66,
     "metadata": {},
     "output_type": "execute_result"
    }
   ],
   "source": [
    "df.columns[800:]"
   ]
  },
  {
   "cell_type": "code",
   "execution_count": 67,
   "metadata": {
    "scrolled": false
   },
   "outputs": [],
   "source": [
    "cols_lq=[c for c in df.columns if c[0:2]=='lq']\n",
    "cols_lq.append('geoid')\n",
    "cols_lq.append('area_fips_x')\n",
    "cols_lq.append('year.2')\n",
    "cols_lq\n",
    "df_lq=df[cols_lq]"
   ]
  },
  {
   "cell_type": "code",
   "execution_count": 68,
   "metadata": {},
   "outputs": [],
   "source": [
    "cols=[c for c in df.columns if 'unclassified' not in c]\n",
    "colslq_cl=[c for c in df_lq.columns if 'unclassified' not in c]\n",
    "colslq_cl.append('geoid')\n",
    "colslq_cl.append('area_fips_x')\n",
    "colslq_cl.append('year.2')"
   ]
  },
  {
   "cell_type": "code",
   "execution_count": 69,
   "metadata": {},
   "outputs": [],
   "source": [
    "dfc=df[cols]\n",
    "df_lq=df_lq[colslq_cl]"
   ]
  },
  {
   "cell_type": "code",
   "execution_count": 70,
   "metadata": {},
   "outputs": [
    {
     "data": {
      "text/plain": [
       "(56, 366)"
      ]
     },
     "execution_count": 70,
     "metadata": {},
     "output_type": "execute_result"
    }
   ],
   "source": [
    "df_lq.shape"
   ]
  },
  {
   "cell_type": "code",
   "execution_count": 71,
   "metadata": {},
   "outputs": [
    {
     "data": {
      "text/plain": [
       "(56, 780)"
      ]
     },
     "execution_count": 71,
     "metadata": {},
     "output_type": "execute_result"
    }
   ],
   "source": [
    "dfc.shape"
   ]
  },
  {
   "cell_type": "code",
   "execution_count": 72,
   "metadata": {},
   "outputs": [
    {
     "data": {
      "text/plain": [
       "lq_month3_emplvl_21_mining_quarrying_and_oil_and_gas_extraction.3    5\n",
       "lq_qtrly_estabs_21_mining_quarrying_and_oil_and_gas_extraction.3     5\n",
       "lq_avg_wkly_wage_21_mining_quarrying_and_oil_and_gas_extraction.3    5\n",
       "month3_emplvl_21_mining_quarrying_and_oil_and_gas_extraction.3       5\n",
       "avg_wkly_wage_21_mining_quarrying_and_oil_and_gas_extraction.3       5\n",
       "qtrly_estabs_21_mining_quarrying_and_oil_and_gas_extraction.3        5\n",
       "lq_month3_emplvl_21_mining_quarrying_and_oil_and_gas_extraction.2    4\n",
       "lq_month3_emplvl_22_utilities.3                                      4\n",
       "avg_wkly_wage_21_mining_quarrying_and_oil_and_gas_extraction.2       4\n",
       "month3_emplvl_21_mining_quarrying_and_oil_and_gas_extraction.2       4\n",
       "lq_avg_wkly_wage_21_mining_quarrying_and_oil_and_gas_extraction.2    4\n",
       "lq_qtrly_estabs_21_mining_quarrying_and_oil_and_gas_extraction.2     4\n",
       "month3_emplvl_55_management_of_companies_and_enterprises.2           4\n",
       "qtrly_estabs_55_management_of_companies_and_enterprises.2            4\n",
       "avg_wkly_wage_55_management_of_companies_and_enterprises.2           4\n",
       "lq_avg_wkly_wage_22_utilities.3                                      4\n",
       "lq_avg_wkly_wage_55_management_of_companies_and_enterprises.2        4\n",
       "lq_qtrly_estabs_55_management_of_companies_and_enterprises.2         4\n",
       "lq_month3_emplvl_55_management_of_companies_and_enterprises.2        4\n",
       "lq_qtrly_estabs_22_utilities.3                                       4\n",
       "qtrly_estabs_21_mining_quarrying_and_oil_and_gas_extraction.2        4\n",
       "month3_emplvl_22_utilities.3                                         4\n",
       "avg_wkly_wage_22_utilities.3                                         4\n",
       "qtrly_estabs_22_utilities.3                                          4\n",
       "qtrly_estabs_61_educational_services.2                               3\n",
       "lq_qtrly_estabs_22_utilities.2                                       3\n",
       "lq_qtrly_estabs_61_educational_services.2                            3\n",
       "lq_avg_wkly_wage_61_educational_services.2                           3\n",
       "month3_emplvl_61_educational_services.2                              3\n",
       "avg_wkly_wage_61_educational_services.2                              3\n",
       "qtrly_estabs_55_management_of_companies_and_enterprises.3            3\n",
       "month3_emplvl_22_utilities.2                                         3\n",
       "avg_wkly_wage_55_management_of_companies_and_enterprises.3           3\n",
       "month3_emplvl_55_management_of_companies_and_enterprises.3           3\n",
       "lq_avg_wkly_wage_55_management_of_companies_and_enterprises.3        3\n",
       "lq_qtrly_estabs_55_management_of_companies_and_enterprises.3         3\n",
       "lq_month3_emplvl_55_management_of_companies_and_enterprises.3        3\n",
       "lq_avg_wkly_wage_22_utilities.2                                      3\n",
       "lq_month3_emplvl_22_utilities.2                                      3\n",
       "avg_wkly_wage_22_utilities.2                                         3\n",
       "lq_month3_emplvl_61_educational_services.2                           3\n",
       "qtrly_estabs_22_utilities.2                                          3\n",
       "lq_qtrly_estabs_11_agriculture_forestry_fishing_and_hunting.3        2\n",
       "lq_month3_emplvl_71_arts_entertainment_and_recreation.3              2\n",
       "lq_qtrly_estabs_71_arts_entertainment_and_recreation.3               2\n",
       "lq_avg_wkly_wage_71_arts_entertainment_and_recreation.3              2\n",
       "month3_emplvl_71_arts_entertainment_and_recreation.3                 2\n",
       "avg_wkly_wage_71_arts_entertainment_and_recreation.3                 2\n",
       "qtrly_estabs_71_arts_entertainment_and_recreation.3                  2\n",
       "lq_month3_emplvl_61_educational_services.1                           2\n",
       "dtype: int64"
      ]
     },
     "execution_count": 72,
     "metadata": {},
     "output_type": "execute_result"
    }
   ],
   "source": [
    "dfc.isnull().sum().sort_values(ascending=False).head(50)"
   ]
  },
  {
   "cell_type": "code",
   "execution_count": 75,
   "metadata": {},
   "outputs": [
    {
     "data": {
      "text/plain": [
       "(['lq_avg_wkly_wage_11_agriculture_forestry_fishing_and_hunting',\n",
       "  'lq_avg_wkly_wage_1024_professional_and_business_services',\n",
       "  'lq_avg_wkly_wage_61_educational_services',\n",
       "  'lq_avg_wkly_wage_53_real_estate_and_rental_and_leasing',\n",
       "  'lq_avg_wkly_wage_1023_financial_activities',\n",
       "  'lq_avg_wkly_wage_31_33_manufacturing',\n",
       "  'lq_avg_wkly_wage_23_construction',\n",
       "  'lq_avg_wkly_wage_71_arts_entertainment_and_recreation',\n",
       "  'lq_avg_wkly_wage_1011_natural_resources_and_mining',\n",
       "  'lq_avg_wkly_wage_54_professional_and_technical_services',\n",
       "  'lq_avg_wkly_wage_1026_leisure_and_hospitality',\n",
       "  'lq_avg_wkly_wage_1022_information',\n",
       "  'lq_avg_wkly_wage_72_accommodation_and_food_services',\n",
       "  'lq_avg_wkly_wage_22_utilities',\n",
       "  'lq_avg_wkly_wage_42_wholesale_trade',\n",
       "  'lq_avg_wkly_wage_10_total_all_industries',\n",
       "  'lq_avg_wkly_wage_81_other_services_except_public_administration',\n",
       "  'lq_avg_wkly_wage_52_finance_and_insurance',\n",
       "  'lq_avg_wkly_wage_44_45_retail_trade',\n",
       "  'lq_avg_wkly_wage_1013_manufacturing',\n",
       "  'lq_avg_wkly_wage_1027_other_services',\n",
       "  'lq_avg_wkly_wage_1025_education_and_health_services',\n",
       "  'lq_avg_wkly_wage_51_information',\n",
       "  'lq_avg_wkly_wage_62_health_care_and_social_assistance',\n",
       "  'lq_avg_wkly_wage_21_mining_quarrying_and_oil_and_gas_extraction',\n",
       "  'lq_avg_wkly_wage_55_management_of_companies_and_enterprises',\n",
       "  'lq_avg_wkly_wage_1012_construction',\n",
       "  'lq_avg_wkly_wage_56_administrative_and_waste_services',\n",
       "  'lq_avg_wkly_wage_1021_trade_transportation_and_utilities',\n",
       "  'lq_avg_wkly_wage_48_49_transportation_and_warehousing'],\n",
       " 30)"
      ]
     },
     "execution_count": 75,
     "metadata": {},
     "output_type": "execute_result"
    }
   ],
   "source": [
    "industries=[]\n",
    "col_inds=[]\n",
    "for i in range(5,185,6):\n",
    "    a=dfc.columns[i]\n",
    "    industries.append(a)\n",
    "    col_inds.append(i)\n",
    "industries,len(industries)"
   ]
  },
  {
   "cell_type": "code",
   "execution_count": 76,
   "metadata": {
    "scrolled": false
   },
   "outputs": [
    {
     "data": {
      "text/html": [
       "<div>\n",
       "<style scoped>\n",
       "    .dataframe tbody tr th:only-of-type {\n",
       "        vertical-align: middle;\n",
       "    }\n",
       "\n",
       "    .dataframe tbody tr th {\n",
       "        vertical-align: top;\n",
       "    }\n",
       "\n",
       "    .dataframe thead th {\n",
       "        text-align: right;\n",
       "    }\n",
       "</style>\n",
       "<table border=\"1\" class=\"dataframe\">\n",
       "  <thead>\n",
       "    <tr style=\"text-align: right;\">\n",
       "      <th></th>\n",
       "      <th>count</th>\n",
       "      <th>mean</th>\n",
       "      <th>std</th>\n",
       "      <th>min</th>\n",
       "      <th>25%</th>\n",
       "      <th>50%</th>\n",
       "      <th>75%</th>\n",
       "      <th>max</th>\n",
       "    </tr>\n",
       "  </thead>\n",
       "  <tbody>\n",
       "    <tr>\n",
       "      <th>lq_avg_wkly_wage_22_utilities</th>\n",
       "      <td>56.0</td>\n",
       "      <td>0.834107</td>\n",
       "      <td>0.482945</td>\n",
       "      <td>0.00</td>\n",
       "      <td>0.7275</td>\n",
       "      <td>0.925</td>\n",
       "      <td>1.1425</td>\n",
       "      <td>1.97</td>\n",
       "    </tr>\n",
       "    <tr>\n",
       "      <th>lq_qtrly_estabs_22_utilities</th>\n",
       "      <td>56.0</td>\n",
       "      <td>0.700000</td>\n",
       "      <td>0.476655</td>\n",
       "      <td>0.07</td>\n",
       "      <td>0.3225</td>\n",
       "      <td>0.545</td>\n",
       "      <td>0.9650</td>\n",
       "      <td>1.97</td>\n",
       "    </tr>\n",
       "    <tr>\n",
       "      <th>lq_month3_emplvl_22_utilities</th>\n",
       "      <td>56.0</td>\n",
       "      <td>0.660536</td>\n",
       "      <td>0.539715</td>\n",
       "      <td>0.00</td>\n",
       "      <td>0.1500</td>\n",
       "      <td>0.650</td>\n",
       "      <td>0.9600</td>\n",
       "      <td>1.83</td>\n",
       "    </tr>\n",
       "    <tr>\n",
       "      <th>lq_avg_wkly_wage_1021_trade_transportation_and_utilities</th>\n",
       "      <td>56.0</td>\n",
       "      <td>0.997500</td>\n",
       "      <td>0.112367</td>\n",
       "      <td>0.58</td>\n",
       "      <td>0.9675</td>\n",
       "      <td>1.020</td>\n",
       "      <td>1.0800</td>\n",
       "      <td>1.14</td>\n",
       "    </tr>\n",
       "    <tr>\n",
       "      <th>lq_qtrly_estabs_1021_trade_transportation_and_utilities</th>\n",
       "      <td>56.0</td>\n",
       "      <td>1.042143</td>\n",
       "      <td>0.120946</td>\n",
       "      <td>0.80</td>\n",
       "      <td>0.9700</td>\n",
       "      <td>1.050</td>\n",
       "      <td>1.0950</td>\n",
       "      <td>1.30</td>\n",
       "    </tr>\n",
       "    <tr>\n",
       "      <th>lq_month3_emplvl_1021_trade_transportation_and_utilities</th>\n",
       "      <td>56.0</td>\n",
       "      <td>0.981607</td>\n",
       "      <td>0.176643</td>\n",
       "      <td>0.54</td>\n",
       "      <td>0.9000</td>\n",
       "      <td>0.980</td>\n",
       "      <td>1.0825</td>\n",
       "      <td>1.44</td>\n",
       "    </tr>\n",
       "    <tr>\n",
       "      <th>lq_avg_wkly_wage_22_utilities.1</th>\n",
       "      <td>55.0</td>\n",
       "      <td>0.708909</td>\n",
       "      <td>0.473117</td>\n",
       "      <td>0.00</td>\n",
       "      <td>0.0000</td>\n",
       "      <td>0.910</td>\n",
       "      <td>1.0400</td>\n",
       "      <td>1.45</td>\n",
       "    </tr>\n",
       "    <tr>\n",
       "      <th>lq_qtrly_estabs_22_utilities.1</th>\n",
       "      <td>55.0</td>\n",
       "      <td>1.143091</td>\n",
       "      <td>1.235819</td>\n",
       "      <td>0.06</td>\n",
       "      <td>0.3900</td>\n",
       "      <td>0.720</td>\n",
       "      <td>1.3500</td>\n",
       "      <td>5.22</td>\n",
       "    </tr>\n",
       "    <tr>\n",
       "      <th>lq_month3_emplvl_22_utilities.1</th>\n",
       "      <td>55.0</td>\n",
       "      <td>0.590000</td>\n",
       "      <td>0.539125</td>\n",
       "      <td>0.00</td>\n",
       "      <td>0.0000</td>\n",
       "      <td>0.600</td>\n",
       "      <td>0.9450</td>\n",
       "      <td>1.85</td>\n",
       "    </tr>\n",
       "    <tr>\n",
       "      <th>lq_avg_wkly_wage_1021_trade_transportation_and_utilities.1</th>\n",
       "      <td>56.0</td>\n",
       "      <td>1.002143</td>\n",
       "      <td>0.136671</td>\n",
       "      <td>0.73</td>\n",
       "      <td>0.9475</td>\n",
       "      <td>1.005</td>\n",
       "      <td>1.0325</td>\n",
       "      <td>1.80</td>\n",
       "    </tr>\n",
       "    <tr>\n",
       "      <th>lq_qtrly_estabs_1021_trade_transportation_and_utilities.1</th>\n",
       "      <td>56.0</td>\n",
       "      <td>1.063571</td>\n",
       "      <td>0.130237</td>\n",
       "      <td>0.79</td>\n",
       "      <td>0.9875</td>\n",
       "      <td>1.070</td>\n",
       "      <td>1.1200</td>\n",
       "      <td>1.39</td>\n",
       "    </tr>\n",
       "    <tr>\n",
       "      <th>lq_month3_emplvl_1021_trade_transportation_and_utilities.1</th>\n",
       "      <td>56.0</td>\n",
       "      <td>0.995714</td>\n",
       "      <td>0.204111</td>\n",
       "      <td>0.55</td>\n",
       "      <td>0.9100</td>\n",
       "      <td>0.990</td>\n",
       "      <td>1.1325</td>\n",
       "      <td>1.50</td>\n",
       "    </tr>\n",
       "    <tr>\n",
       "      <th>lq_avg_wkly_wage_22_utilities.2</th>\n",
       "      <td>53.0</td>\n",
       "      <td>0.704340</td>\n",
       "      <td>0.533823</td>\n",
       "      <td>0.00</td>\n",
       "      <td>0.0000</td>\n",
       "      <td>0.950</td>\n",
       "      <td>1.1600</td>\n",
       "      <td>1.40</td>\n",
       "    </tr>\n",
       "    <tr>\n",
       "      <th>lq_qtrly_estabs_22_utilities.2</th>\n",
       "      <td>53.0</td>\n",
       "      <td>1.065472</td>\n",
       "      <td>1.031907</td>\n",
       "      <td>0.06</td>\n",
       "      <td>0.3600</td>\n",
       "      <td>0.800</td>\n",
       "      <td>1.3900</td>\n",
       "      <td>5.14</td>\n",
       "    </tr>\n",
       "    <tr>\n",
       "      <th>lq_month3_emplvl_22_utilities.2</th>\n",
       "      <td>53.0</td>\n",
       "      <td>0.601509</td>\n",
       "      <td>0.605213</td>\n",
       "      <td>0.00</td>\n",
       "      <td>0.0000</td>\n",
       "      <td>0.410</td>\n",
       "      <td>1.0200</td>\n",
       "      <td>1.90</td>\n",
       "    </tr>\n",
       "    <tr>\n",
       "      <th>lq_avg_wkly_wage_1021_trade_transportation_and_utilities.2</th>\n",
       "      <td>56.0</td>\n",
       "      <td>1.032321</td>\n",
       "      <td>0.140376</td>\n",
       "      <td>0.76</td>\n",
       "      <td>0.9650</td>\n",
       "      <td>1.020</td>\n",
       "      <td>1.0700</td>\n",
       "      <td>1.67</td>\n",
       "    </tr>\n",
       "    <tr>\n",
       "      <th>lq_qtrly_estabs_1021_trade_transportation_and_utilities.2</th>\n",
       "      <td>56.0</td>\n",
       "      <td>1.073036</td>\n",
       "      <td>0.188804</td>\n",
       "      <td>0.68</td>\n",
       "      <td>0.9350</td>\n",
       "      <td>1.075</td>\n",
       "      <td>1.1725</td>\n",
       "      <td>1.64</td>\n",
       "    </tr>\n",
       "    <tr>\n",
       "      <th>lq_month3_emplvl_1021_trade_transportation_and_utilities.2</th>\n",
       "      <td>56.0</td>\n",
       "      <td>1.009643</td>\n",
       "      <td>0.226499</td>\n",
       "      <td>0.24</td>\n",
       "      <td>0.9250</td>\n",
       "      <td>1.030</td>\n",
       "      <td>1.1175</td>\n",
       "      <td>1.52</td>\n",
       "    </tr>\n",
       "    <tr>\n",
       "      <th>lq_avg_wkly_wage_22_utilities.3</th>\n",
       "      <td>52.0</td>\n",
       "      <td>0.704615</td>\n",
       "      <td>0.448065</td>\n",
       "      <td>0.00</td>\n",
       "      <td>0.3000</td>\n",
       "      <td>0.880</td>\n",
       "      <td>1.0200</td>\n",
       "      <td>1.40</td>\n",
       "    </tr>\n",
       "    <tr>\n",
       "      <th>lq_qtrly_estabs_22_utilities.3</th>\n",
       "      <td>52.0</td>\n",
       "      <td>1.048077</td>\n",
       "      <td>0.963997</td>\n",
       "      <td>0.05</td>\n",
       "      <td>0.4100</td>\n",
       "      <td>0.780</td>\n",
       "      <td>1.3600</td>\n",
       "      <td>4.43</td>\n",
       "    </tr>\n",
       "    <tr>\n",
       "      <th>lq_month3_emplvl_22_utilities.3</th>\n",
       "      <td>52.0</td>\n",
       "      <td>0.624038</td>\n",
       "      <td>0.554388</td>\n",
       "      <td>0.00</td>\n",
       "      <td>0.0300</td>\n",
       "      <td>0.575</td>\n",
       "      <td>1.0375</td>\n",
       "      <td>1.91</td>\n",
       "    </tr>\n",
       "    <tr>\n",
       "      <th>lq_avg_wkly_wage_1021_trade_transportation_and_utilities.3</th>\n",
       "      <td>56.0</td>\n",
       "      <td>1.014643</td>\n",
       "      <td>0.125596</td>\n",
       "      <td>0.65</td>\n",
       "      <td>0.9500</td>\n",
       "      <td>1.015</td>\n",
       "      <td>1.0750</td>\n",
       "      <td>1.35</td>\n",
       "    </tr>\n",
       "    <tr>\n",
       "      <th>lq_qtrly_estabs_1021_trade_transportation_and_utilities.3</th>\n",
       "      <td>56.0</td>\n",
       "      <td>1.057321</td>\n",
       "      <td>0.184287</td>\n",
       "      <td>0.60</td>\n",
       "      <td>0.9300</td>\n",
       "      <td>1.040</td>\n",
       "      <td>1.1625</td>\n",
       "      <td>1.65</td>\n",
       "    </tr>\n",
       "    <tr>\n",
       "      <th>lq_month3_emplvl_1021_trade_transportation_and_utilities.3</th>\n",
       "      <td>56.0</td>\n",
       "      <td>0.997679</td>\n",
       "      <td>0.215634</td>\n",
       "      <td>0.26</td>\n",
       "      <td>0.9250</td>\n",
       "      <td>1.015</td>\n",
       "      <td>1.1025</td>\n",
       "      <td>1.44</td>\n",
       "    </tr>\n",
       "  </tbody>\n",
       "</table>\n",
       "</div>"
      ],
      "text/plain": [
       "                                                    count      mean       std  \\\n",
       "lq_avg_wkly_wage_22_utilities                        56.0  0.834107  0.482945   \n",
       "lq_qtrly_estabs_22_utilities                         56.0  0.700000  0.476655   \n",
       "lq_month3_emplvl_22_utilities                        56.0  0.660536  0.539715   \n",
       "lq_avg_wkly_wage_1021_trade_transportation_and_...   56.0  0.997500  0.112367   \n",
       "lq_qtrly_estabs_1021_trade_transportation_and_u...   56.0  1.042143  0.120946   \n",
       "lq_month3_emplvl_1021_trade_transportation_and_...   56.0  0.981607  0.176643   \n",
       "lq_avg_wkly_wage_22_utilities.1                      55.0  0.708909  0.473117   \n",
       "lq_qtrly_estabs_22_utilities.1                       55.0  1.143091  1.235819   \n",
       "lq_month3_emplvl_22_utilities.1                      55.0  0.590000  0.539125   \n",
       "lq_avg_wkly_wage_1021_trade_transportation_and_...   56.0  1.002143  0.136671   \n",
       "lq_qtrly_estabs_1021_trade_transportation_and_u...   56.0  1.063571  0.130237   \n",
       "lq_month3_emplvl_1021_trade_transportation_and_...   56.0  0.995714  0.204111   \n",
       "lq_avg_wkly_wage_22_utilities.2                      53.0  0.704340  0.533823   \n",
       "lq_qtrly_estabs_22_utilities.2                       53.0  1.065472  1.031907   \n",
       "lq_month3_emplvl_22_utilities.2                      53.0  0.601509  0.605213   \n",
       "lq_avg_wkly_wage_1021_trade_transportation_and_...   56.0  1.032321  0.140376   \n",
       "lq_qtrly_estabs_1021_trade_transportation_and_u...   56.0  1.073036  0.188804   \n",
       "lq_month3_emplvl_1021_trade_transportation_and_...   56.0  1.009643  0.226499   \n",
       "lq_avg_wkly_wage_22_utilities.3                      52.0  0.704615  0.448065   \n",
       "lq_qtrly_estabs_22_utilities.3                       52.0  1.048077  0.963997   \n",
       "lq_month3_emplvl_22_utilities.3                      52.0  0.624038  0.554388   \n",
       "lq_avg_wkly_wage_1021_trade_transportation_and_...   56.0  1.014643  0.125596   \n",
       "lq_qtrly_estabs_1021_trade_transportation_and_u...   56.0  1.057321  0.184287   \n",
       "lq_month3_emplvl_1021_trade_transportation_and_...   56.0  0.997679  0.215634   \n",
       "\n",
       "                                                     min     25%    50%  \\\n",
       "lq_avg_wkly_wage_22_utilities                       0.00  0.7275  0.925   \n",
       "lq_qtrly_estabs_22_utilities                        0.07  0.3225  0.545   \n",
       "lq_month3_emplvl_22_utilities                       0.00  0.1500  0.650   \n",
       "lq_avg_wkly_wage_1021_trade_transportation_and_...  0.58  0.9675  1.020   \n",
       "lq_qtrly_estabs_1021_trade_transportation_and_u...  0.80  0.9700  1.050   \n",
       "lq_month3_emplvl_1021_trade_transportation_and_...  0.54  0.9000  0.980   \n",
       "lq_avg_wkly_wage_22_utilities.1                     0.00  0.0000  0.910   \n",
       "lq_qtrly_estabs_22_utilities.1                      0.06  0.3900  0.720   \n",
       "lq_month3_emplvl_22_utilities.1                     0.00  0.0000  0.600   \n",
       "lq_avg_wkly_wage_1021_trade_transportation_and_...  0.73  0.9475  1.005   \n",
       "lq_qtrly_estabs_1021_trade_transportation_and_u...  0.79  0.9875  1.070   \n",
       "lq_month3_emplvl_1021_trade_transportation_and_...  0.55  0.9100  0.990   \n",
       "lq_avg_wkly_wage_22_utilities.2                     0.00  0.0000  0.950   \n",
       "lq_qtrly_estabs_22_utilities.2                      0.06  0.3600  0.800   \n",
       "lq_month3_emplvl_22_utilities.2                     0.00  0.0000  0.410   \n",
       "lq_avg_wkly_wage_1021_trade_transportation_and_...  0.76  0.9650  1.020   \n",
       "lq_qtrly_estabs_1021_trade_transportation_and_u...  0.68  0.9350  1.075   \n",
       "lq_month3_emplvl_1021_trade_transportation_and_...  0.24  0.9250  1.030   \n",
       "lq_avg_wkly_wage_22_utilities.3                     0.00  0.3000  0.880   \n",
       "lq_qtrly_estabs_22_utilities.3                      0.05  0.4100  0.780   \n",
       "lq_month3_emplvl_22_utilities.3                     0.00  0.0300  0.575   \n",
       "lq_avg_wkly_wage_1021_trade_transportation_and_...  0.65  0.9500  1.015   \n",
       "lq_qtrly_estabs_1021_trade_transportation_and_u...  0.60  0.9300  1.040   \n",
       "lq_month3_emplvl_1021_trade_transportation_and_...  0.26  0.9250  1.015   \n",
       "\n",
       "                                                       75%   max  \n",
       "lq_avg_wkly_wage_22_utilities                       1.1425  1.97  \n",
       "lq_qtrly_estabs_22_utilities                        0.9650  1.97  \n",
       "lq_month3_emplvl_22_utilities                       0.9600  1.83  \n",
       "lq_avg_wkly_wage_1021_trade_transportation_and_...  1.0800  1.14  \n",
       "lq_qtrly_estabs_1021_trade_transportation_and_u...  1.0950  1.30  \n",
       "lq_month3_emplvl_1021_trade_transportation_and_...  1.0825  1.44  \n",
       "lq_avg_wkly_wage_22_utilities.1                     1.0400  1.45  \n",
       "lq_qtrly_estabs_22_utilities.1                      1.3500  5.22  \n",
       "lq_month3_emplvl_22_utilities.1                     0.9450  1.85  \n",
       "lq_avg_wkly_wage_1021_trade_transportation_and_...  1.0325  1.80  \n",
       "lq_qtrly_estabs_1021_trade_transportation_and_u...  1.1200  1.39  \n",
       "lq_month3_emplvl_1021_trade_transportation_and_...  1.1325  1.50  \n",
       "lq_avg_wkly_wage_22_utilities.2                     1.1600  1.40  \n",
       "lq_qtrly_estabs_22_utilities.2                      1.3900  5.14  \n",
       "lq_month3_emplvl_22_utilities.2                     1.0200  1.90  \n",
       "lq_avg_wkly_wage_1021_trade_transportation_and_...  1.0700  1.67  \n",
       "lq_qtrly_estabs_1021_trade_transportation_and_u...  1.1725  1.64  \n",
       "lq_month3_emplvl_1021_trade_transportation_and_...  1.1175  1.52  \n",
       "lq_avg_wkly_wage_22_utilities.3                     1.0200  1.40  \n",
       "lq_qtrly_estabs_22_utilities.3                      1.3600  4.43  \n",
       "lq_month3_emplvl_22_utilities.3                     1.0375  1.91  \n",
       "lq_avg_wkly_wage_1021_trade_transportation_and_...  1.0750  1.35  \n",
       "lq_qtrly_estabs_1021_trade_transportation_and_u...  1.1625  1.65  \n",
       "lq_month3_emplvl_1021_trade_transportation_and_...  1.1025  1.44  "
      ]
     },
     "execution_count": 76,
     "metadata": {},
     "output_type": "execute_result"
    }
   ],
   "source": [
    "colaglq=[c for c in df_lq.columns if 'utilities' in c]\n",
    "df_lq[colaglq].describe().T"
   ]
  },
  {
   "cell_type": "code",
   "execution_count": 83,
   "metadata": {
    "scrolled": true
   },
   "outputs": [
    {
     "data": {
      "text/plain": [
       "Index(['lq_month3_emplvl_48_49_transportation_and_warehousing',\n",
       "       'lq_avg_wkly_wage_11_agriculture_forestry_fishing_and_hunting.1',\n",
       "       'lq_qtrly_estabs_11_agriculture_forestry_fishing_and_hunting.1',\n",
       "       'lq_month3_emplvl_11_agriculture_forestry_fishing_and_hunting.1',\n",
       "       'lq_avg_wkly_wage_1024_professional_and_business_services.1',\n",
       "       'lq_qtrly_estabs_1024_professional_and_business_services.1',\n",
       "       'lq_month3_emplvl_1024_professional_and_business_services.1',\n",
       "       'lq_avg_wkly_wage_61_educational_services.1',\n",
       "       'lq_qtrly_estabs_61_educational_services.1',\n",
       "       'lq_month3_emplvl_61_educational_services.1',\n",
       "       'lq_avg_wkly_wage_53_real_estate_and_rental_and_leasing.1'],\n",
       "      dtype='object')"
      ]
     },
     "execution_count": 83,
     "metadata": {},
     "output_type": "execute_result"
    }
   ],
   "source": [
    "df_lq.columns[89:100]"
   ]
  },
  {
   "cell_type": "code",
   "execution_count": 134,
   "metadata": {
    "scrolled": false
   },
   "outputs": [],
   "source": [
    "for i in range(0,90,3):\n",
    "    df_lq['emp_'+str(i/3)+'_avg']=(df_lq[df_lq.columns[i]]+df_lq[df_lq.columns[i+90]])/2\n",
    "    df_lq['wage_'+str(i/3)+'_avg']=(df_lq[df_lq.columns[i+1]]+df_lq[df_lq.columns[i+91]])/2\n",
    "    df_lq['est_'+str(i/3)+'_avg']=(df_lq[df_lq.columns[i+2]]+df_lq[df_lq.columns[i+92]])/2"
   ]
  },
  {
   "cell_type": "code",
   "execution_count": 136,
   "metadata": {},
   "outputs": [
    {
     "data": {
      "text/plain": [
       "Index(['year.2', 'emp_0.0 _avg', 'wage_0.0 _avg'], dtype='object')"
      ]
     },
     "execution_count": 136,
     "metadata": {},
     "output_type": "execute_result"
    }
   ],
   "source": [
    "df_lq.columns[365:368]"
   ]
  },
  {
   "cell_type": "code",
   "execution_count": 128,
   "metadata": {},
   "outputs": [
    {
     "name": "stderr",
     "output_type": "stream",
     "text": [
      "/Users/andrewdavis/opt/anaconda3/lib/python3.7/site-packages/ipykernel_launcher.py:5: SettingWithCopyWarning: \n",
      "A value is trying to be set on a copy of a slice from a DataFrame\n",
      "\n",
      "See the caveats in the documentation: https://pandas.pydata.org/pandas-docs/stable/user_guide/indexing.html#returning-a-view-versus-a-copy\n",
      "  \"\"\"\n"
     ]
    },
    {
     "data": {
      "text/plain": [
       "0"
      ]
     },
     "execution_count": 128,
     "metadata": {},
     "output_type": "execute_result"
    }
   ],
   "source": [
    "X=df_lq.iloc[:,366:]\n",
    "X=X.fillna(.9)\n",
    "X.isnull().sum()\n",
    "y=df['avg_wkly_wage_10_total_all_industries.3']\n",
    "y[0]=y[1:].mean()\n",
    "y.isnull().sum()"
   ]
  },
  {
   "cell_type": "code",
   "execution_count": 124,
   "metadata": {},
   "outputs": [
    {
     "name": "stdout",
     "output_type": "stream",
     "text": [
      "3.5698800404682753 3.6\n",
      "14.096916299559473 5.0\n",
      "2.597799511002445 2.4\n",
      "4.234001292824822 4.4\n",
      "4.234001292824822 4.4\n",
      "4.234001292824822 4.4\n",
      "6.7667706708268325 4.7\n",
      "0.5130597014925373 0.3\n",
      "5.132192846034215 1.0\n",
      "2.086438152011923 3.3\n",
      "12.390087929656275 6.4\n",
      "6.261682242990655 7.7\n",
      "4.136921105619623 3.5\n",
      "-17.28110599078341 -17.0\n",
      "-17.28110599078341 -17.0\n",
      "-39.15343915343915 -39.3\n",
      "1.1337868480725624 3.1\n",
      "2.8335743746317426 3.8\n",
      "1.8596787827557058 4.3\n",
      "-3.8934426229508197 -4.1\n",
      "0.2266808141217324 1.0\n",
      "1.507936507936508 2.5\n",
      "-6.058446186742694 0.2\n",
      "1.2570437798006067 0.1\n",
      "-0.3044802087864289 0.7\n",
      "0.5666666666666667 1.3\n",
      "2.2792511032089458 2.2\n",
      "1.7634854771784232 1.9\n",
      "-3.329369797859691 0.5\n",
      "5.415860735009671 0.7\n",
      "1.5598650927487352 2.2\n",
      "-1.2779552715654952 0.8\n",
      "0.7544322897019993 1.7\n",
      "-0.20896656534954405 2.2\n",
      "-1.268668700819014 0.6\n",
      "-1.4299802761341223 -0.4\n",
      "1.6316540893330616 3.2\n",
      "2.408731652239368 3.1\n",
      "-0.5415162454873645 3.1\n",
      "-0.07507507507507508 2.8\n",
      "0.0 2.3\n",
      "-1.4434643143544506 2.6\n",
      "2.648171500630517 1.2\n",
      "11.078286558345644 1.3\n",
      "6.970185334407736 2.9\n",
      "3.0502190765082577 1.0\n",
      "4.837721984078383 1.0\n",
      "4.716981132075472 0.6\n",
      "-0.5390835579514826 0.0\n",
      "0.3852046399649814 1.1\n",
      "-1.7017828200972445 -0.6\n",
      "-0.60790273556231 0.8\n",
      "4.380165289256198 -0.9\n",
      "4.380165289256198 -0.9\n",
      "-7.663316582914573 -5.9\n"
     ]
    }
   ],
   "source": [
    "for i in range(55):\n",
    "    print(y[i]*100,df['month_3_employment_percent_change_oty.3'][i])"
   ]
  },
  {
   "cell_type": "code",
   "execution_count": 127,
   "metadata": {},
   "outputs": [
    {
     "data": {
      "text/plain": [
       "0        0.0\n",
       "1      728.0\n",
       "2      813.0\n",
       "3      635.0\n",
       "4      755.0\n",
       "5      755.0\n",
       "6      379.0\n",
       "7      596.0\n",
       "8      680.0\n",
       "9      803.0\n",
       "10     728.0\n",
       "11     784.0\n",
       "12     695.0\n",
       "13    1032.0\n",
       "14     698.0\n",
       "15     684.0\n",
       "16    1032.0\n",
       "17     753.0\n",
       "18     684.0\n",
       "19     956.0\n",
       "20    1214.0\n",
       "21     946.0\n",
       "22     753.0\n",
       "23    1283.0\n",
       "24    1287.0\n",
       "25     864.0\n",
       "26    1073.0\n",
       "27     750.0\n",
       "28     291.0\n",
       "29     590.0\n",
       "30     866.0\n",
       "31    1031.0\n",
       "32     995.0\n",
       "33     812.0\n",
       "34    2742.0\n",
       "35    1351.0\n",
       "36     828.0\n",
       "37    1047.0\n",
       "38     932.0\n",
       "39     701.0\n",
       "40     917.0\n",
       "41     596.0\n",
       "42     476.0\n",
       "43     835.0\n",
       "44     938.0\n",
       "45    1092.0\n",
       "46     821.0\n",
       "47    1156.0\n",
       "48     747.0\n",
       "49    1375.0\n",
       "50     690.0\n",
       "51    1191.0\n",
       "52     460.0\n",
       "53     518.0\n",
       "54     801.0\n",
       "55     835.0\n",
       "Name: avg_wkly_wage_10_total_all_industries.3, dtype: float64"
      ]
     },
     "execution_count": 127,
     "metadata": {},
     "output_type": "execute_result"
    }
   ],
   "source": [
    "y"
   ]
  },
  {
   "cell_type": "code",
   "execution_count": 113,
   "metadata": {},
   "outputs": [],
   "source": [
    "from sklearn.model_selection import train_test_split, cross_val_score\n",
    "from sklearn.linear_model import LinearRegression"
   ]
  },
  {
   "cell_type": "code",
   "execution_count": 129,
   "metadata": {},
   "outputs": [],
   "source": [
    "lr=LinearRegression()\n",
    "X_train,X_test,y_train,y_test=train_test_split(X,y,test_size=.1)"
   ]
  },
  {
   "cell_type": "code",
   "execution_count": 130,
   "metadata": {},
   "outputs": [
    {
     "data": {
      "text/plain": [
       "LinearRegression(copy_X=True, fit_intercept=True, n_jobs=None, normalize=False)"
      ]
     },
     "execution_count": 130,
     "metadata": {},
     "output_type": "execute_result"
    }
   ],
   "source": [
    "lr.fit(X_train,y_train)"
   ]
  },
  {
   "cell_type": "code",
   "execution_count": 131,
   "metadata": {},
   "outputs": [
    {
     "data": {
      "text/plain": [
       "(1.0, -70.33473232313078)"
      ]
     },
     "execution_count": 131,
     "metadata": {},
     "output_type": "execute_result"
    }
   ],
   "source": [
    "lr.score(X_train,y_train),lr.score(X_test,y_test)"
   ]
  },
  {
   "cell_type": "code",
   "execution_count": 132,
   "metadata": {},
   "outputs": [
    {
     "data": {
      "text/plain": [
       "array([761.15263391, -42.186522  , 738.69713022, 778.25374122,\n",
       "       455.13862404, 679.63906225])"
      ]
     },
     "execution_count": 132,
     "metadata": {},
     "output_type": "execute_result"
    }
   ],
   "source": [
    "lr.predict(X_test)"
   ]
  },
  {
   "cell_type": "code",
   "execution_count": 133,
   "metadata": {},
   "outputs": [
    {
     "data": {
      "text/plain": [
       "8     680.0\n",
       "4     755.0\n",
       "11    784.0\n",
       "48    747.0\n",
       "15    684.0\n",
       "50    690.0\n",
       "Name: avg_wkly_wage_10_total_all_industries.3, dtype: float64"
      ]
     },
     "execution_count": 133,
     "metadata": {},
     "output_type": "execute_result"
    }
   ],
   "source": [
    "y_test"
   ]
  },
  {
   "cell_type": "code",
   "execution_count": 137,
   "metadata": {},
   "outputs": [
    {
     "data": {
      "text/plain": [
       "'lq_avg_wkly_wage_11_agriculture_forestry_fishing_and_hunting'"
      ]
     },
     "execution_count": 137,
     "metadata": {},
     "output_type": "execute_result"
    }
   ],
   "source": [
    "df_lq.columns[0]"
   ]
  },
  {
   "cell_type": "code",
   "execution_count": 139,
   "metadata": {},
   "outputs": [
    {
     "data": {
      "image/png": "[encoded data removed]",
      "text/plain": [
       "<Figure size 432x288 with 1 Axes>"
      ]
     },
     "metadata": {
      "needs_background": "light"
     },
     "output_type": "display_data"
    }
   ],
   "source": [
    "a=[df_lq[df_lq.columns[0]],\n",
    "   df_lq[df_lq.columns[90]],\n",
    "   df_lq[df_lq.columns[180]],\n",
    "   df_lq[df_lq.columns[270]]]\n",
    "import matplotlib.pyplot as plt\n",
    "plt.plot(a);"
   ]
  },
  {
   "cell_type": "code",
   "execution_count": 141,
   "metadata": {},
   "outputs": [
    {
     "data": {
      "image/png": "[encoded data removed]",
      "text/plain": [
       "<Figure size 432x288 with 1 Axes>"
      ]
     },
     "metadata": {
      "needs_background": "light"
     },
     "output_type": "display_data"
    }
   ],
   "source": [
    "plt.hist(df_lq[df_lq.columns[0]]);"
   ]
  },
  {
   "cell_type": "code",
   "execution_count": 142,
   "metadata": {},
   "outputs": [
    {
     "data": {
      "text/plain": [
       "14"
      ]
     },
     "execution_count": 142,
     "metadata": {},
     "output_type": "execute_result"
    }
   ],
   "source": [
    "df['geoid'].nunique()"
   ]
  },
  {
   "cell_type": "code",
   "execution_count": 147,
   "metadata": {},
   "outputs": [
    {
     "data": {
      "image/png": "[encoded data removed]",
      "text/plain": [
       "<Figure size 432x288 with 1 Axes>"
      ]
     },
     "metadata": {
      "needs_background": "light"
     },
     "output_type": "display_data"
    }
   ],
   "source": [
    "emp=[]\n",
    "for i in df['geoid'].unique():\n",
    "    a1=df['month3_emplvl_1026_leisure_and_hospitality'][df['geoid']==i].sum()\n",
    "    a2=df['month3_emplvl_1026_leisure_and_hospitality.1'][df['geoid']==i].sum()\n",
    "    a3=df['month3_emplvl_1026_leisure_and_hospitality.2'][df['geoid']==i].sum()\n",
    "    a4=df['month3_emplvl_1026_leisure_and_hospitality.3'][df['geoid']==i].sum()\n",
    "    plt.scatter(x=[1,2,3,4],y=[a1,a2,a3,a4]);"
   ]
  },
  {
   "cell_type": "code",
   "execution_count": null,
   "metadata": {},
   "outputs": [],
   "source": []
  },
  {
   "cell_type": "code",
   "execution_count": null,
   "metadata": {},
   "outputs": [],
   "source": []
  }
 ],
 "metadata": {
  "kernelspec": {
   "display_name": "Python 3",
   "language": "python",
   "name": "python3"
  },
  "language_info": {
   "codemirror_mode": {
    "name": "ipython",
    "version": 3
   },
   "file_extension": ".py",
   "mimetype": "text/x-python",
   "name": "python",
   "nbconvert_exporter": "python",
   "pygments_lexer": "ipython3",
   "version": "3.7.6"
  }
 },
 "nbformat": 4,
 "nbformat_minor": 4
}
