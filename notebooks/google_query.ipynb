{
 "cells": [
  {
   "cell_type": "code",
   "execution_count": 16,
   "metadata": {},
   "outputs": [],
   "source": [
    "import requests\n",
    "import json\n",
    "import prettytable\n",
    "import pandas as pd\n",
    "from pandas.io import gbq\n",
    "from google.cloud import bigquery\n",
    "from google.oauth2 import service_account"
   ]
  },
  {
   "cell_type": "code",
   "execution_count": 8,
   "metadata": {},
   "outputs": [],
   "source": [
    "credentials = service_account.Credentials.from_service_account_file('./Project 5-ccfc5048ea0d.json')\n",
    "project_id = 'project-5-276418'\n"
   ]
  },
  {
   "cell_type": "code",
   "execution_count": 9,
   "metadata": {},
   "outputs": [],
   "source": [
    "client = bigquery.Client(credentials= credentials,project=project_id)"
   ]
  },
  {
   "cell_type": "code",
   "execution_count": 29,
   "metadata": {},
   "outputs": [],
   "source": [
    "sql = \"\"\"\n",
    "SELECT *\n",
    "FROM `bigquery-public-data.bls_qcew.2017_q3` \n",
    "WHERE area_fips = '48201'\n",
    "\"\"\"\n",
    "new_df = client.query(sql).to_dataframe()"
   ]
  },
  {
   "cell_type": "code",
   "execution_count": 31,
   "metadata": {},
   "outputs": [
    {
     "data": {
      "text/html": [
       "<div>\n",
       "<style scoped>\n",
       "    .dataframe tbody tr th:only-of-type {\n",
       "        vertical-align: middle;\n",
       "    }\n",
       "\n",
       "    .dataframe tbody tr th {\n",
       "        vertical-align: top;\n",
       "    }\n",
       "\n",
       "    .dataframe thead th {\n",
       "        text-align: right;\n",
       "    }\n",
       "</style>\n",
       "<table border=\"1\" class=\"dataframe\">\n",
       "  <thead>\n",
       "    <tr style=\"text-align: right;\">\n",
       "      <th></th>\n",
       "      <th>geoid</th>\n",
       "      <th>area_fips</th>\n",
       "      <th>qtrly_estabs_11_agriculture_forestry_fishing_and_hunting</th>\n",
       "      <th>avg_wkly_wage_11_agriculture_forestry_fishing_and_hunting</th>\n",
       "      <th>month3_emplvl_11_agriculture_forestry_fishing_and_hunting</th>\n",
       "      <th>lq_avg_wkly_wage_11_agriculture_forestry_fishing_and_hunting</th>\n",
       "      <th>lq_qtrly_estabs_11_agriculture_forestry_fishing_and_hunting</th>\n",
       "      <th>lq_month3_emplvl_11_agriculture_forestry_fishing_and_hunting</th>\n",
       "      <th>qtrly_estabs_1024_professional_and_business_services</th>\n",
       "      <th>avg_wkly_wage_1024_professional_and_business_services</th>\n",
       "      <th>...</th>\n",
       "      <th>month3_emplvl_99_unclassified</th>\n",
       "      <th>lq_avg_wkly_wage_99_unclassified</th>\n",
       "      <th>lq_qtrly_estabs_99_unclassified</th>\n",
       "      <th>lq_month3_emplvl_99_unclassified</th>\n",
       "      <th>qtrly_estabs_48_49_transportation_and_warehousing</th>\n",
       "      <th>avg_wkly_wage_48_49_transportation_and_warehousing</th>\n",
       "      <th>month3_emplvl_48_49_transportation_and_warehousing</th>\n",
       "      <th>lq_avg_wkly_wage_48_49_transportation_and_warehousing</th>\n",
       "      <th>lq_qtrly_estabs_48_49_transportation_and_warehousing</th>\n",
       "      <th>lq_month3_emplvl_48_49_transportation_and_warehousing</th>\n",
       "    </tr>\n",
       "  </thead>\n",
       "  <tbody>\n",
       "    <tr>\n",
       "      <th>0</th>\n",
       "      <td>48201</td>\n",
       "      <td>48201</td>\n",
       "      <td>217.0</td>\n",
       "      <td>933.0</td>\n",
       "      <td>1431.0</td>\n",
       "      <td>1.16</td>\n",
       "      <td>0.18</td>\n",
       "      <td>0.07</td>\n",
       "      <td>23224.0</td>\n",
       "      <td>1543.0</td>\n",
       "      <td>...</td>\n",
       "      <td>1992.0</td>\n",
       "      <td>0.55</td>\n",
       "      <td>0.5</td>\n",
       "      <td>0.61</td>\n",
       "      <td>3351.0</td>\n",
       "      <td>1525.0</td>\n",
       "      <td>104260.0</td>\n",
       "      <td>1.28</td>\n",
       "      <td>1.17</td>\n",
       "      <td>1.33</td>\n",
       "    </tr>\n",
       "  </tbody>\n",
       "</table>\n",
       "<p>1 rows × 194 columns</p>\n",
       "</div>"
      ],
      "text/plain": [
       "   geoid area_fips  qtrly_estabs_11_agriculture_forestry_fishing_and_hunting  \\\n",
       "0  48201     48201                                              217.0          \n",
       "\n",
       "   avg_wkly_wage_11_agriculture_forestry_fishing_and_hunting  \\\n",
       "0                                              933.0           \n",
       "\n",
       "   month3_emplvl_11_agriculture_forestry_fishing_and_hunting  \\\n",
       "0                                             1431.0           \n",
       "\n",
       "   lq_avg_wkly_wage_11_agriculture_forestry_fishing_and_hunting  \\\n",
       "0                                               1.16              \n",
       "\n",
       "   lq_qtrly_estabs_11_agriculture_forestry_fishing_and_hunting  \\\n",
       "0                                               0.18             \n",
       "\n",
       "   lq_month3_emplvl_11_agriculture_forestry_fishing_and_hunting  \\\n",
       "0                                               0.07              \n",
       "\n",
       "   qtrly_estabs_1024_professional_and_business_services  \\\n",
       "0                                            23224.0      \n",
       "\n",
       "   avg_wkly_wage_1024_professional_and_business_services  ...  \\\n",
       "0                                             1543.0      ...   \n",
       "\n",
       "   month3_emplvl_99_unclassified  lq_avg_wkly_wage_99_unclassified  \\\n",
       "0                         1992.0                              0.55   \n",
       "\n",
       "   lq_qtrly_estabs_99_unclassified  lq_month3_emplvl_99_unclassified  \\\n",
       "0                              0.5                              0.61   \n",
       "\n",
       "   qtrly_estabs_48_49_transportation_and_warehousing  \\\n",
       "0                                             3351.0   \n",
       "\n",
       "   avg_wkly_wage_48_49_transportation_and_warehousing  \\\n",
       "0                                             1525.0    \n",
       "\n",
       "   month3_emplvl_48_49_transportation_and_warehousing  \\\n",
       "0                                           104260.0    \n",
       "\n",
       "   lq_avg_wkly_wage_48_49_transportation_and_warehousing  \\\n",
       "0                                               1.28       \n",
       "\n",
       "   lq_qtrly_estabs_48_49_transportation_and_warehousing  \\\n",
       "0                                               1.17      \n",
       "\n",
       "   lq_month3_emplvl_48_49_transportation_and_warehousing  \n",
       "0                                               1.33      \n",
       "\n",
       "[1 rows x 194 columns]"
      ]
     },
     "execution_count": 31,
     "metadata": {},
     "output_type": "execute_result"
    }
   ],
   "source": [
    "new_df.head()\n",
    "    "
   ]
  },
  {
   "cell_type": "code",
   "execution_count": null,
   "metadata": {},
   "outputs": [],
   "source": []
  },
  {
   "cell_type": "code",
   "execution_count": null,
   "metadata": {},
   "outputs": [],
   "source": []
  },
  {
   "cell_type": "code",
   "execution_count": null,
   "metadata": {},
   "outputs": [],
   "source": [
    "######### the same process is below but they made me visit that long url and input an authentication code #########"
   ]
  },
  {
   "cell_type": "code",
   "execution_count": 17,
   "metadata": {},
   "outputs": [],
   "source": [
    "alexa_data = \"\"\"\n",
    "SELECT *\n",
    "FROM `bigquery-public-data.bls_qcew.2017_q3` \n",
    "WHERE area_fips = '48201'\n",
    "\"\"\""
   ]
  },
  {
   "cell_type": "code",
   "execution_count": 20,
   "metadata": {},
   "outputs": [
    {
     "name": "stdout",
     "output_type": "stream",
     "text": [
      "Please visit this URL to authorize this application: https://accounts.google.com/o/oauth2/auth?response_type=code&client_id=725825577420-unm2gnkiprugilg743tkbig250f4sfsj.apps.googleusercontent.com&redirect_uri=urn%3Aietf%3Awg%3Aoauth%3A2.0%3Aoob&scope=https%3A%2F%2Fwww.googleapis.com%2Fauth%2Fbigquery&state=MZqVLgUhk3E0gR3UiJvWvivy9aaPCZ&prompt=consent&access_type=offline\n"
     ]
    },
    {
     "name": "stdin",
     "output_type": "stream",
     "text": [
      "Enter the authorization code:  4/zQG_iaI4X_ZrcMJbFG2w29LDMVSWZmEFznKX3A9j-uAQatNXSuRMB1Y\n"
     ]
    },
    {
     "name": "stderr",
     "output_type": "stream",
     "text": [
      "Downloading: 100%|██████████| 1/1 [00:00<00:00,  3.59rows/s]\n"
     ]
    },
    {
     "data": {
      "text/html": [
       "<div>\n",
       "<style scoped>\n",
       "    .dataframe tbody tr th:only-of-type {\n",
       "        vertical-align: middle;\n",
       "    }\n",
       "\n",
       "    .dataframe tbody tr th {\n",
       "        vertical-align: top;\n",
       "    }\n",
       "\n",
       "    .dataframe thead th {\n",
       "        text-align: right;\n",
       "    }\n",
       "</style>\n",
       "<table border=\"1\" class=\"dataframe\">\n",
       "  <thead>\n",
       "    <tr style=\"text-align: right;\">\n",
       "      <th></th>\n",
       "      <th>geoid</th>\n",
       "      <th>area_fips</th>\n",
       "      <th>qtrly_estabs_11_agriculture_forestry_fishing_and_hunting</th>\n",
       "      <th>avg_wkly_wage_11_agriculture_forestry_fishing_and_hunting</th>\n",
       "      <th>month3_emplvl_11_agriculture_forestry_fishing_and_hunting</th>\n",
       "      <th>lq_avg_wkly_wage_11_agriculture_forestry_fishing_and_hunting</th>\n",
       "      <th>lq_qtrly_estabs_11_agriculture_forestry_fishing_and_hunting</th>\n",
       "      <th>lq_month3_emplvl_11_agriculture_forestry_fishing_and_hunting</th>\n",
       "      <th>qtrly_estabs_1024_professional_and_business_services</th>\n",
       "      <th>avg_wkly_wage_1024_professional_and_business_services</th>\n",
       "      <th>...</th>\n",
       "      <th>month3_emplvl_99_unclassified</th>\n",
       "      <th>lq_avg_wkly_wage_99_unclassified</th>\n",
       "      <th>lq_qtrly_estabs_99_unclassified</th>\n",
       "      <th>lq_month3_emplvl_99_unclassified</th>\n",
       "      <th>qtrly_estabs_48_49_transportation_and_warehousing</th>\n",
       "      <th>avg_wkly_wage_48_49_transportation_and_warehousing</th>\n",
       "      <th>month3_emplvl_48_49_transportation_and_warehousing</th>\n",
       "      <th>lq_avg_wkly_wage_48_49_transportation_and_warehousing</th>\n",
       "      <th>lq_qtrly_estabs_48_49_transportation_and_warehousing</th>\n",
       "      <th>lq_month3_emplvl_48_49_transportation_and_warehousing</th>\n",
       "    </tr>\n",
       "  </thead>\n",
       "  <tbody>\n",
       "    <tr>\n",
       "      <th>0</th>\n",
       "      <td>48201</td>\n",
       "      <td>48201</td>\n",
       "      <td>217.0</td>\n",
       "      <td>933.0</td>\n",
       "      <td>1431.0</td>\n",
       "      <td>1.16</td>\n",
       "      <td>0.18</td>\n",
       "      <td>0.07</td>\n",
       "      <td>23224.0</td>\n",
       "      <td>1543.0</td>\n",
       "      <td>...</td>\n",
       "      <td>1992.0</td>\n",
       "      <td>0.55</td>\n",
       "      <td>0.5</td>\n",
       "      <td>0.61</td>\n",
       "      <td>3351.0</td>\n",
       "      <td>1525.0</td>\n",
       "      <td>104260.0</td>\n",
       "      <td>1.28</td>\n",
       "      <td>1.17</td>\n",
       "      <td>1.33</td>\n",
       "    </tr>\n",
       "  </tbody>\n",
       "</table>\n",
       "<p>1 rows × 194 columns</p>\n",
       "</div>"
      ],
      "text/plain": [
       "   geoid area_fips  qtrly_estabs_11_agriculture_forestry_fishing_and_hunting  \\\n",
       "0  48201     48201                                              217.0          \n",
       "\n",
       "   avg_wkly_wage_11_agriculture_forestry_fishing_and_hunting  \\\n",
       "0                                              933.0           \n",
       "\n",
       "   month3_emplvl_11_agriculture_forestry_fishing_and_hunting  \\\n",
       "0                                             1431.0           \n",
       "\n",
       "   lq_avg_wkly_wage_11_agriculture_forestry_fishing_and_hunting  \\\n",
       "0                                               1.16              \n",
       "\n",
       "   lq_qtrly_estabs_11_agriculture_forestry_fishing_and_hunting  \\\n",
       "0                                               0.18             \n",
       "\n",
       "   lq_month3_emplvl_11_agriculture_forestry_fishing_and_hunting  \\\n",
       "0                                               0.07              \n",
       "\n",
       "   qtrly_estabs_1024_professional_and_business_services  \\\n",
       "0                                            23224.0      \n",
       "\n",
       "   avg_wkly_wage_1024_professional_and_business_services  ...  \\\n",
       "0                                             1543.0      ...   \n",
       "\n",
       "   month3_emplvl_99_unclassified  lq_avg_wkly_wage_99_unclassified  \\\n",
       "0                         1992.0                              0.55   \n",
       "\n",
       "   lq_qtrly_estabs_99_unclassified  lq_month3_emplvl_99_unclassified  \\\n",
       "0                              0.5                              0.61   \n",
       "\n",
       "   qtrly_estabs_48_49_transportation_and_warehousing  \\\n",
       "0                                             3351.0   \n",
       "\n",
       "   avg_wkly_wage_48_49_transportation_and_warehousing  \\\n",
       "0                                             1525.0    \n",
       "\n",
       "   month3_emplvl_48_49_transportation_and_warehousing  \\\n",
       "0                                           104260.0    \n",
       "\n",
       "   lq_avg_wkly_wage_48_49_transportation_and_warehousing  \\\n",
       "0                                               1.28       \n",
       "\n",
       "   lq_qtrly_estabs_48_49_transportation_and_warehousing  \\\n",
       "0                                               1.17      \n",
       "\n",
       "   lq_month3_emplvl_48_49_transportation_and_warehousing  \n",
       "0                                               1.33      \n",
       "\n",
       "[1 rows x 194 columns]"
      ]
     },
     "execution_count": 20,
     "metadata": {},
     "output_type": "execute_result"
    }
   ],
   "source": [
    "alexa_data = gbq.read_gbq(alexa_data, project_id=\"project-5-276418\")\n",
    "alexa_data.head(3)"
   ]
  },
  {
   "cell_type": "code",
   "execution_count": null,
   "metadata": {},
   "outputs": [],
   "source": []
  },
  {
   "cell_type": "code",
   "execution_count": null,
   "metadata": {},
   "outputs": [],
   "source": []
  }
 ],
 "metadata": {
  "kernelspec": {
   "display_name": "Python 3",
   "language": "python",
   "name": "python3"
  },
  "language_info": {
   "codemirror_mode": {
    "name": "ipython",
    "version": 3
   },
   "file_extension": ".py",
   "mimetype": "text/x-python",
   "name": "python",
   "nbconvert_exporter": "python",
   "pygments_lexer": "ipython3",
   "version": "3.7.6"
  }
 },
 "nbformat": 4,
 "nbformat_minor": 4
}
