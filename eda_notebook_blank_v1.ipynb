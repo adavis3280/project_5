{
 "cells": [
  {
   "cell_type": "code",
   "execution_count": 26,
   "metadata": {},
   "outputs": [],
   "source": [
    "import pandas as pd\n",
    "import numpy as np\n",
    "import seaborn as sns\n",
    "import matplotlib.pyplot as plt\n",
    "\n",
    "def read_df(name):\n",
    "    df = pd.read_csv('datasets/'+(name)+'.csv')\n",
    "    print(df.describe())\n",
    "    print(df.count())\n",
    "    print(df.head())"
   ]
  },
  {
   "cell_type": "code",
   "execution_count": 27,
   "metadata": {},
   "outputs": [
    {
     "name": "stdout",
     "output_type": "stream",
     "text": [
      "       Code         Year  Total economic damage from natural disasters (US$)\n",
      "count   0.0   561.000000                                       5.610000e+02 \n",
      "mean    NaN  1977.217469                                       1.146966e+10 \n",
      "std     NaN    30.399233                                       3.199525e+10 \n",
      "min     NaN  1900.000000                                       0.000000e+00 \n",
      "25%     NaN  1959.000000                                       6.850000e+07 \n",
      "50%     NaN  1984.000000                                       8.400000e+08 \n",
      "75%     NaN  2001.000000                                       5.444777e+09 \n",
      "max     NaN  2018.000000                                       3.640932e+11 \n",
      "Entity                                                561\n",
      "Code                                                    0\n",
      "Year                                                  561\n",
      "Total economic damage from natural disasters (US$)    561\n",
      "dtype: int64\n",
      "                  Entity  Code  Year  \\\n",
      "0  All natural disasters   NaN  1900   \n",
      "1  All natural disasters   NaN  1901   \n",
      "2  All natural disasters   NaN  1902   \n",
      "3  All natural disasters   NaN  1903   \n",
      "4  All natural disasters   NaN  1904   \n",
      "\n",
      "   Total economic damage from natural disasters (US$)  \n",
      "0                                           30000000   \n",
      "1                                                  0   \n",
      "2                                                  0   \n",
      "3                                          480000000   \n",
      "4                                                  0   \n"
     ]
    }
   ],
   "source": [
    "read_df('economic-damage-from-natural-disasters')"
   ]
  },
  {
   "cell_type": "code",
   "execution_count": null,
   "metadata": {},
   "outputs": [],
   "source": []
  }
 ],
 "metadata": {
  "kernelspec": {
   "display_name": "Python 3",
   "language": "python",
   "name": "python3"
  },
  "language_info": {
   "codemirror_mode": {
    "name": "ipython",
    "version": 3
   },
   "file_extension": ".py",
   "mimetype": "text/x-python",
   "name": "python",
   "nbconvert_exporter": "python",
   "pygments_lexer": "ipython3",
   "version": "3.7.6"
  }
 },
 "nbformat": 4,
 "nbformat_minor": 4
}
