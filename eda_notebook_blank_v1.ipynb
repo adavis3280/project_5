{
 "cells": [
  {
   "cell_type": "code",
   "execution_count": 17,
   "metadata": {},
   "outputs": [
    {
     "data": {
      "text/html": [
       "<div>\n",
       "<style scoped>\n",
       "    .dataframe tbody tr th:only-of-type {\n",
       "        vertical-align: middle;\n",
       "    }\n",
       "\n",
       "    .dataframe tbody tr th {\n",
       "        vertical-align: top;\n",
       "    }\n",
       "\n",
       "    .dataframe thead th {\n",
       "        text-align: right;\n",
       "    }\n",
       "</style>\n",
       "<table border=\"1\" class=\"dataframe\">\n",
       "  <thead>\n",
       "    <tr style=\"text-align: right;\">\n",
       "      <th></th>\n",
       "      <th>Entity</th>\n",
       "      <th>Code</th>\n",
       "      <th>Year</th>\n",
       "      <th>Total economic damage from natural disasters (US$)</th>\n",
       "    </tr>\n",
       "  </thead>\n",
       "  <tbody>\n",
       "    <tr>\n",
       "      <th>0</th>\n",
       "      <td>All natural disasters</td>\n",
       "      <td>NaN</td>\n",
       "      <td>1900</td>\n",
       "      <td>30000000</td>\n",
       "    </tr>\n",
       "    <tr>\n",
       "      <th>1</th>\n",
       "      <td>All natural disasters</td>\n",
       "      <td>NaN</td>\n",
       "      <td>1901</td>\n",
       "      <td>0</td>\n",
       "    </tr>\n",
       "    <tr>\n",
       "      <th>2</th>\n",
       "      <td>All natural disasters</td>\n",
       "      <td>NaN</td>\n",
       "      <td>1902</td>\n",
       "      <td>0</td>\n",
       "    </tr>\n",
       "    <tr>\n",
       "      <th>3</th>\n",
       "      <td>All natural disasters</td>\n",
       "      <td>NaN</td>\n",
       "      <td>1903</td>\n",
       "      <td>480000000</td>\n",
       "    </tr>\n",
       "    <tr>\n",
       "      <th>4</th>\n",
       "      <td>All natural disasters</td>\n",
       "      <td>NaN</td>\n",
       "      <td>1904</td>\n",
       "      <td>0</td>\n",
       "    </tr>\n",
       "  </tbody>\n",
       "</table>\n",
       "</div>"
      ],
      "text/plain": [
       "                  Entity  Code  Year  \\\n",
       "0  All natural disasters   NaN  1900   \n",
       "1  All natural disasters   NaN  1901   \n",
       "2  All natural disasters   NaN  1902   \n",
       "3  All natural disasters   NaN  1903   \n",
       "4  All natural disasters   NaN  1904   \n",
       "\n",
       "   Total economic damage from natural disasters (US$)  \n",
       "0                                           30000000   \n",
       "1                                                  0   \n",
       "2                                                  0   \n",
       "3                                          480000000   \n",
       "4                                                  0   "
      ]
     },
     "execution_count": 17,
     "metadata": {},
     "output_type": "execute_result"
    }
   ],
   "source": [
    "import pandas as pd\n",
    "import numpy as np\n",
    "import seaborn as sns\n",
    "import matplotlib.pyplot as plt\n",
    "import requests\n",
    "from bs4 import BeautifulSoup\n",
    "from pandas.io import gbq\n",
    "from google.cloud import bigquery\n",
    "\n",
    "name = 'economic-damage-from-natural-disasters'\n",
    "df = pd.read_csv('datasets/'+(name)+'.csv')\n",
    "df.head()"
   ]
  },
  {
   "cell_type": "code",
   "execution_count": null,
   "metadata": {},
   "outputs": [],
   "source": [
    "with open(\"datasets/cats-03062020-1123.csv\", 'r') as f:\n",
    "    lines = f.readlines()"
   ]
  },
  {
   "cell_type": "code",
   "execution_count": null,
   "metadata": {},
   "outputs": [],
   "source": [
    "lines.value_counts()"
   ]
  },
  {
   "cell_type": "markdown",
   "metadata": {},
   "source": [
    "# Google Database BigQuery Code (Start here)>>>"
   ]
  },
  {
   "cell_type": "code",
   "execution_count": null,
   "metadata": {},
   "outputs": [],
   "source": [
    "# !pip install --upgrade google-cloud-bigquery\n",
    "# !pip install pandas-gbq\n",
    "# !pip install google-cloud-bigquery"
   ]
  },
  {
   "cell_type": "code",
   "execution_count": 18,
   "metadata": {},
   "outputs": [],
   "source": [
    "from google.cloud import bigquery\n",
    "from google.oauth2 import service_account\n",
    "\n",
    "credentials = service_account.Credentials.from_service_account_file(\"p5_cred.json\")\n",
    "project_id = 'banded-water-276418'"
   ]
  },
  {
   "cell_type": "code",
   "execution_count": 20,
   "metadata": {},
   "outputs": [
    {
     "name": "stderr",
     "output_type": "stream",
     "text": [
      "Downloading: 100%|█████████████████████████████████████████████████████████████████████| 1/1 [00:00<00:00,  4.84rows/s]\n"
     ]
    }
   ],
   "source": [
    "harris_data = \"\"\"\n",
    "SELECT *\n",
    "FROM `bigquery-public-data.bls_qcew.2017_q3` AS b\n",
    "WHERE area_fips = \"48201\"\n",
    "\"\"\"\n",
    "\n",
    "harris_data = gbq.read_gbq(harris_data, project_id='banded-water-276418')"
   ]
  },
  {
   "cell_type": "code",
   "execution_count": 21,
   "metadata": {},
   "outputs": [
    {
     "data": {
      "text/html": [
       "<div>\n",
       "<style scoped>\n",
       "    .dataframe tbody tr th:only-of-type {\n",
       "        vertical-align: middle;\n",
       "    }\n",
       "\n",
       "    .dataframe tbody tr th {\n",
       "        vertical-align: top;\n",
       "    }\n",
       "\n",
       "    .dataframe thead th {\n",
       "        text-align: right;\n",
       "    }\n",
       "</style>\n",
       "<table border=\"1\" class=\"dataframe\">\n",
       "  <thead>\n",
       "    <tr style=\"text-align: right;\">\n",
       "      <th></th>\n",
       "      <th>geoid</th>\n",
       "      <th>area_fips</th>\n",
       "      <th>qtrly_estabs_11_agriculture_forestry_fishing_and_hunting</th>\n",
       "      <th>avg_wkly_wage_11_agriculture_forestry_fishing_and_hunting</th>\n",
       "      <th>month3_emplvl_11_agriculture_forestry_fishing_and_hunting</th>\n",
       "      <th>lq_avg_wkly_wage_11_agriculture_forestry_fishing_and_hunting</th>\n",
       "      <th>lq_qtrly_estabs_11_agriculture_forestry_fishing_and_hunting</th>\n",
       "      <th>lq_month3_emplvl_11_agriculture_forestry_fishing_and_hunting</th>\n",
       "      <th>qtrly_estabs_1024_professional_and_business_services</th>\n",
       "      <th>avg_wkly_wage_1024_professional_and_business_services</th>\n",
       "      <th>...</th>\n",
       "      <th>month3_emplvl_99_unclassified</th>\n",
       "      <th>lq_avg_wkly_wage_99_unclassified</th>\n",
       "      <th>lq_qtrly_estabs_99_unclassified</th>\n",
       "      <th>lq_month3_emplvl_99_unclassified</th>\n",
       "      <th>qtrly_estabs_48_49_transportation_and_warehousing</th>\n",
       "      <th>avg_wkly_wage_48_49_transportation_and_warehousing</th>\n",
       "      <th>month3_emplvl_48_49_transportation_and_warehousing</th>\n",
       "      <th>lq_avg_wkly_wage_48_49_transportation_and_warehousing</th>\n",
       "      <th>lq_qtrly_estabs_48_49_transportation_and_warehousing</th>\n",
       "      <th>lq_month3_emplvl_48_49_transportation_and_warehousing</th>\n",
       "    </tr>\n",
       "  </thead>\n",
       "  <tbody>\n",
       "    <tr>\n",
       "      <th>0</th>\n",
       "      <td>48201</td>\n",
       "      <td>48201</td>\n",
       "      <td>217.0</td>\n",
       "      <td>933.0</td>\n",
       "      <td>1431.0</td>\n",
       "      <td>1.16</td>\n",
       "      <td>0.18</td>\n",
       "      <td>0.07</td>\n",
       "      <td>23224.0</td>\n",
       "      <td>1543.0</td>\n",
       "      <td>...</td>\n",
       "      <td>1992.0</td>\n",
       "      <td>0.55</td>\n",
       "      <td>0.5</td>\n",
       "      <td>0.61</td>\n",
       "      <td>3351.0</td>\n",
       "      <td>1525.0</td>\n",
       "      <td>104260.0</td>\n",
       "      <td>1.28</td>\n",
       "      <td>1.17</td>\n",
       "      <td>1.33</td>\n",
       "    </tr>\n",
       "  </tbody>\n",
       "</table>\n",
       "<p>1 rows × 194 columns</p>\n",
       "</div>"
      ],
      "text/plain": [
       "   geoid area_fips  qtrly_estabs_11_agriculture_forestry_fishing_and_hunting  \\\n",
       "0  48201     48201                                              217.0          \n",
       "\n",
       "   avg_wkly_wage_11_agriculture_forestry_fishing_and_hunting  \\\n",
       "0                                              933.0           \n",
       "\n",
       "   month3_emplvl_11_agriculture_forestry_fishing_and_hunting  \\\n",
       "0                                             1431.0           \n",
       "\n",
       "   lq_avg_wkly_wage_11_agriculture_forestry_fishing_and_hunting  \\\n",
       "0                                               1.16              \n",
       "\n",
       "   lq_qtrly_estabs_11_agriculture_forestry_fishing_and_hunting  \\\n",
       "0                                               0.18             \n",
       "\n",
       "   lq_month3_emplvl_11_agriculture_forestry_fishing_and_hunting  \\\n",
       "0                                               0.07              \n",
       "\n",
       "   qtrly_estabs_1024_professional_and_business_services  \\\n",
       "0                                            23224.0      \n",
       "\n",
       "   avg_wkly_wage_1024_professional_and_business_services  ...  \\\n",
       "0                                             1543.0      ...   \n",
       "\n",
       "   month3_emplvl_99_unclassified  lq_avg_wkly_wage_99_unclassified  \\\n",
       "0                         1992.0                              0.55   \n",
       "\n",
       "   lq_qtrly_estabs_99_unclassified  lq_month3_emplvl_99_unclassified  \\\n",
       "0                              0.5                              0.61   \n",
       "\n",
       "   qtrly_estabs_48_49_transportation_and_warehousing  \\\n",
       "0                                             3351.0   \n",
       "\n",
       "   avg_wkly_wage_48_49_transportation_and_warehousing  \\\n",
       "0                                             1525.0    \n",
       "\n",
       "   month3_emplvl_48_49_transportation_and_warehousing  \\\n",
       "0                                           104260.0    \n",
       "\n",
       "   lq_avg_wkly_wage_48_49_transportation_and_warehousing  \\\n",
       "0                                               1.28       \n",
       "\n",
       "   lq_qtrly_estabs_48_49_transportation_and_warehousing  \\\n",
       "0                                               1.17      \n",
       "\n",
       "   lq_month3_emplvl_48_49_transportation_and_warehousing  \n",
       "0                                               1.33      \n",
       "\n",
       "[1 rows x 194 columns]"
      ]
     },
     "execution_count": 21,
     "metadata": {},
     "output_type": "execute_result"
    }
   ],
   "source": [
    "harris_data"
   ]
  },
  {
   "cell_type": "code",
   "execution_count": 9,
   "metadata": {},
   "outputs": [],
   "source": [
    "import os\n",
    "os.environ['GOOGLE_APPLICATION_CREDENTIALS']= \"~/Desktop/GA_master/Projects/project_5/p5_cred.json\""
   ]
  },
  {
   "cell_type": "code",
   "execution_count": null,
   "metadata": {},
   "outputs": [],
   "source": [
    "\"C:\\Users\\username\\Downloads\\[FILE_NAME].json\""
   ]
  },
  {
   "cell_type": "code",
   "execution_count": 1,
   "metadata": {},
   "outputs": [],
   "source": [
    "from google.cloud import bigquery\n",
    "from google.oauth2 import service_account"
   ]
  },
  {
   "cell_type": "code",
   "execution_count": null,
   "metadata": {},
   "outputs": [],
   "source": [
    "cred = service_account.Credentials.from_service_account_file(\n",
    "    'project 6-a933f6840f90.json', \n",
    "    scopes=[\"https://www.googleapis.com/auth/cloud-platform\"]\n",
    ")\n",
    "\n",
    "# client = bigquery.Client(\n",
    "#     credentials = credentials,\n",
    "#     project = credentials.banded-water-276418\n",
    "# )"
   ]
  },
  {
   "cell_type": "code",
   "execution_count": null,
   "metadata": {},
   "outputs": [],
   "source": [
    "sql = \"\"\"\n",
    "SELECT *\n",
    "FROM `bigquery-public-data.bls_qcew.2017_q3` AS b\n",
    "WHERE area_fips = \"48201\"\n",
    "\"\"\"\n",
    "\n",
    "# Run a Standard SQL query using the environment's default project\n",
    "df = pandas.read_gbq(sql, dialect='standard')\n",
    "\n",
    "# # Run a Standard SQL query with the project set explicitly\n",
    "# project_id = '100062872363204309014'\n",
    "# df = pandas.read_gbq(sql, project_id=project_id, dialect='standard')"
   ]
  },
  {
   "cell_type": "code",
   "execution_count": null,
   "metadata": {},
   "outputs": [],
   "source": []
  }
 ],
 "metadata": {
  "kernelspec": {
   "display_name": "Python 3",
   "language": "python",
   "name": "python3"
  },
  "language_info": {
   "codemirror_mode": {
    "name": "ipython",
    "version": 3
   },
   "file_extension": ".py",
   "mimetype": "text/x-python",
   "name": "python",
   "nbconvert_exporter": "python",
   "pygments_lexer": "ipython3",
   "version": "3.7.6"
  }
 },
 "nbformat": 4,
 "nbformat_minor": 4
}
